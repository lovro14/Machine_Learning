{
 "cells": [
  {
   "cell_type": "markdown",
   "metadata": {},
   "source": [
    "Sveučilište u Zagrebu<br>\n",
    "Fakultet elektrotehnike i računarstva\n",
    "\n",
    "## Strojno učenje 2016./2017.\n",
    "\n",
    "<a href=\"http://www.fer.unizg.hr/predmet/su\">http://www.fer.unizg.hr/predmet/su</a>"
   ]
  },
  {
   "cell_type": "markdown",
   "metadata": {},
   "source": [
    "### Laboratorijska vježba 1: Regresija\n",
    "\n",
    "(c) 2015-2016 Jan Šnajder, Domagoj Alagić i Mladen Karan\n",
    "\n",
    "<i>Verzija: 0.2</i> <br/>\n",
    "<i>Zadnji put ažurirano: 11. listopada 2016.</i> "
   ]
  },
  {
   "cell_type": "markdown",
   "metadata": {},
   "source": [
    "Objavljeno: **12. listopada 2016.**<br>\n",
    "Rok za predaju: U terminu vježbe u tjednu od **17. listopada 2016.**"
   ]
  },
  {
   "cell_type": "markdown",
   "metadata": {},
   "source": [
    "### Upute\n",
    "\n",
    "Prva laboratorijska vježba sastoji se od **sedam** zadataka. Kako bi kvalitetnije, ali i na manje zamoran način usvojili gradivo ovog kolegija, potrudili smo se uključiti tri vrste zadataka: **1)** implementacija manjih algoritama, modela ili postupaka; **2)** eksperimenti s raznim modelima te njihovim hiperparametrima, te **3)** primjena modela na (stvarnim) podatcima. Ovim zadatcima pokrivamo dvije paradigme učenja: učenje izgradnjom (engl. *learning by building*) i učenje eksperimentiranjem (engl. *learning by experimenting*).\n",
    "\n",
    "U nastavku slijedite upute navedene u ćelijama s tekstom. Rješavanje vježbe svodi se na **dopunjavanje ove bilježnice**: umetanja ćelije ili više njih **ispod** teksta zadatka, pisanja odgovarajućeg kôda te evaluiranja ćelija. \n",
    "\n",
    "Osigurajte da u potpunosti **razumijete** kôd koji ste napisali. Kod predaje vježbe, morate biti u stanju na zahtjev asistenta (ili demonstratora) preinačiti i ponovno evaluirati Vaš kôd. Nadalje, morate razumjeti teorijske osnove onoga što radite, u okvirima onoga što smo obradili na predavanju. Ispod nekih zadataka možete naći i pitanja koja služe kao smjernice za bolje razumijevanje gradiva (**nemojte pisati** odgovore na pitanja u bilježnicu). Stoga se nemojte ograničiti samo na to da riješite zadatak, nego slobodno eksperimentirajte. To upravo i jest svrha ovih vježbi.\n",
    "\n",
    "Vježbe trebate raditi **samostalno**. Možete se konzultirati s drugima o načelnom načinu rješavanja, ali u konačnici morate sami odraditi vježbu. U protivnome vježba nema smisla."
   ]
  },
  {
   "cell_type": "code",
   "execution_count": 1,
   "metadata": {
    "collapsed": false
   },
   "outputs": [
    {
     "name": "stdout",
     "output_type": "stream",
     "text": [
      "Populating the interactive namespace from numpy and matplotlib\n"
     ]
    }
   ],
   "source": [
    "# Učitaj osnovne biblioteke...\n",
    "import numpy as np\n",
    "import scipy as sp\n",
    "import sklearn\n",
    "import sklearn.preprocessing as skp\n",
    "import matplotlib.pyplot as plt\n",
    "%pylab inline"
   ]
  },
  {
   "cell_type": "markdown",
   "metadata": {},
   "source": [
    "## Zadatci"
   ]
  },
  {
   "cell_type": "markdown",
   "metadata": {},
   "source": [
    "### 1. Univarijatna regresija"
   ]
  },
  {
   "cell_type": "markdown",
   "metadata": {},
   "source": [
    "Zadan je skup primjera $\\mathcal{D}=\\{(x^{(i)},y^{(i)})\\}_{i=1}^4 = \\{(0,4),(1,1),(2,2),(4,5)\\}$. Primjere predstavite matrixom $\\mathbf{X}$ dimenzija $N\\times n$ (u ovom slučaju $4\\times 1$) i vektorom oznaka $\\textbf{y}$, dimenzija $N\\times 1$ (u ovom slučaju $4\\times 1$), na sljedeći način:\n"
   ]
  },
  {
   "cell_type": "code",
   "execution_count": 2,
   "metadata": {
    "collapsed": false
   },
   "outputs": [],
   "source": [
    "X = np.array([[0],[1],[2],[4]])\n",
    "y = np.array([[4],[1],[2],[5]])"
   ]
  },
  {
   "cell_type": "markdown",
   "metadata": {},
   "source": [
    "### (a)\n",
    "\n",
    "Proučite funkciju [`PolynomialFeatures`](http://scikit-learn.org/stable/modules/generated/sklearn.preprocessing.PolynomialFeatures.html) iz biblioteke `sklearn` i upotrijebite je za generiranje dizajn-matrice $\\mathbf{\\Phi}$ koja ne koristi preslikavanje u prostor više dimenzije (samo će svakom primjeru biti dodane *dummy* jedinice; $m=n+1$).\n"
   ]
  },
  {
   "cell_type": "code",
   "execution_count": 3,
   "metadata": {
    "collapsed": false
   },
   "outputs": [
    {
     "data": {
      "text/plain": [
       "array([[ 1.,  0.],\n",
       "       [ 1.,  1.],\n",
       "       [ 1.,  2.],\n",
       "       [ 1.,  4.]])"
      ]
     },
     "execution_count": 3,
     "metadata": {},
     "output_type": "execute_result"
    }
   ],
   "source": [
    "poly = skp.PolynomialFeatures(1)\n",
    "DM = poly.fit_transform(X)\n",
    "DM"
   ]
  },
  {
   "cell_type": "markdown",
   "metadata": {},
   "source": [
    "### (b)"
   ]
  },
  {
   "cell_type": "markdown",
   "metadata": {},
   "source": [
    "Upoznajte se s modulom [`linalg`](http://docs.scipy.org/doc/numpy/reference/routines.linalg.html). Izračunajte težine $\\mathbf{w}$ modela linearne regresije kao $\\mathbf{w}=(\\mathbf{\\Phi}^\\intercal\\mathbf{\\Phi})^{-1}\\mathbf{\\Phi}^\\intercal\\mathbf{y}$. Zatim se uvjerite da isti rezultat možete dobiti izračunom pseudoinverza $\\mathbf{\\Phi}^+$ dizajn-matrice, tj. $\\mathbf{w}=\\mathbf{\\Phi}^+\\mathbf{y}$, korištenjem funkcije [`pinv`](http://docs.scipy.org/doc/numpy/reference/generated/numpy.linalg.pinv.html)."
   ]
  },
  {
   "cell_type": "code",
   "execution_count": 4,
   "metadata": {
    "collapsed": true
   },
   "outputs": [],
   "source": [
    "from numpy import linalg"
   ]
  },
  {
   "cell_type": "code",
   "execution_count": 5,
   "metadata": {
    "collapsed": false
   },
   "outputs": [
    {
     "data": {
      "text/plain": [
       "array([[ 2.2       ],\n",
       "       [ 0.45714286]])"
      ]
     },
     "execution_count": 5,
     "metadata": {},
     "output_type": "execute_result"
    }
   ],
   "source": [
    "DMTranspose = DM.transpose()\n",
    "DMMultiplication = np.dot(DMTranspose,DM)\n",
    "Inverse = linalg.inv(DMMultiplication)\n",
    "InverseTranspose = np.dot(Inverse,DMTranspose)\n",
    "w = np.dot(InverseTranspose,y)\n",
    "# w\n",
    "pseudoInvers = linalg.pinv(DM)\n",
    "w2 = np.dot(pseudoInvers,y)\n",
    "w2"
   ]
  },
  {
   "cell_type": "markdown",
   "metadata": {},
   "source": [
    "Radi jasnoće, u nastavku je vektor $\\mathbf{x}$ s dodanom *dummy* jedinicom $x_0=1$ označen kao $\\tilde{\\mathbf{x}}$."
   ]
  },
  {
   "cell_type": "markdown",
   "metadata": {},
   "source": [
    "### (c)"
   ]
  },
  {
   "cell_type": "markdown",
   "metadata": {},
   "source": [
    "Prikažite primjere iz $\\mathcal{D}$ i funkciju $h(\\tilde{\\mathbf{x}})=\\mathbf{w}^\\intercal\\tilde{\\mathbf{x}}$. Izračunajte pogrešku učenja prema izrazu $E(h|\\mathcal{D})=\\frac{1}{2}\\sum_{i=1}^N(\\tilde{\\mathbf{x}}^{(i)} - h(\\tilde{\\mathbf{x}}))^2$. Možete koristiti funkciju srednje kvadratne pogreške [`mean_squared_error`]( http://scikit-learn.org/stable/modules/generated/sklearn.metrics.mean_squared_error.html#sklearn.metrics.mean_squared_error) iz modula [`sklearn.metrics`](http://scikit-learn.org/stable/modules/classes.html#module-sklearn.metrics).\n",
    "\n",
    "**Q:** Gore definirana funkcija pogreške $E(h|\\mathcal{D})$ i funkcija srednje kvadratne pogreške nisu posve identične. U čemu je razlika? Koja je \"realnija\"?"
   ]
  },
  {
   "cell_type": "code",
   "execution_count": 6,
   "metadata": {
    "collapsed": false
   },
   "outputs": [],
   "source": [
    "from sklearn.metrics import mean_squared_error\n",
    "D = np.append(X, y, axis=1)\n",
    "#D\n",
    "h = np.dot(w2.transpose(),DM.transpose())\n",
    "error = mean_squared_error(y.transpose(),h)\n",
    "error"
   ]
  },
  {
   "cell_type": "markdown",
   "metadata": {},
   "source": [
    "### (d)"
   ]
  },
  {
   "cell_type": "markdown",
   "metadata": {},
   "source": [
    "Uvjerite se da za primjere iz $\\mathcal{D}$ težine $\\mathbf{w}$ ne možemo naći rješavanjem sustava $\\mathbf{w}=\\mathbf{\\Phi}^{-1}\\mathbf{y}$, već da nam doista treba pseudoinverz.\n",
    "\n",
    "**Q:** Zašto je to slučaj? Bi li se problem mogao riješiti preslikavanjem primjera u višu dimenziju? Ako da, bi li to uvijek funkcioniralo, neovisno o skupu primjera $\\mathcal{D}$? Pokažite na primjeru."
   ]
  },
  {
   "cell_type": "code",
   "execution_count": 7,
   "metadata": {
    "collapsed": false
   },
   "outputs": [
    {
     "ename": "LinAlgError",
     "evalue": "Last 2 dimensions of the array must be square",
     "traceback": [
      "\u001b[1;31m---------------------------------------------------------------------------\u001b[0m",
      "\u001b[1;31mLinAlgError\u001b[0m                               Traceback (most recent call last)",
      "\u001b[1;32m<ipython-input-7-d671c4605c3f>\u001b[0m in \u001b[0;36m<module>\u001b[1;34m()\u001b[0m\n\u001b[1;32m----> 1\u001b[1;33m \u001b[0mlinalg\u001b[0m\u001b[1;33m.\u001b[0m\u001b[0minv\u001b[0m\u001b[1;33m(\u001b[0m\u001b[0mDM\u001b[0m\u001b[1;33m)\u001b[0m\u001b[1;33m\u001b[0m\u001b[0m\n\u001b[0m",
      "\u001b[1;32mC:\\Users\\Lovro\\Anaconda3\\lib\\site-packages\\numpy\\linalg\\linalg.py\u001b[0m in \u001b[0;36minv\u001b[1;34m(a)\u001b[0m\n\u001b[0;32m    515\u001b[0m     \u001b[0ma\u001b[0m\u001b[1;33m,\u001b[0m \u001b[0mwrap\u001b[0m \u001b[1;33m=\u001b[0m \u001b[0m_makearray\u001b[0m\u001b[1;33m(\u001b[0m\u001b[0ma\u001b[0m\u001b[1;33m)\u001b[0m\u001b[1;33m\u001b[0m\u001b[0m\n\u001b[0;32m    516\u001b[0m     \u001b[0m_assertRankAtLeast2\u001b[0m\u001b[1;33m(\u001b[0m\u001b[0ma\u001b[0m\u001b[1;33m)\u001b[0m\u001b[1;33m\u001b[0m\u001b[0m\n\u001b[1;32m--> 517\u001b[1;33m     \u001b[0m_assertNdSquareness\u001b[0m\u001b[1;33m(\u001b[0m\u001b[0ma\u001b[0m\u001b[1;33m)\u001b[0m\u001b[1;33m\u001b[0m\u001b[0m\n\u001b[0m\u001b[0;32m    518\u001b[0m     \u001b[0mt\u001b[0m\u001b[1;33m,\u001b[0m \u001b[0mresult_t\u001b[0m \u001b[1;33m=\u001b[0m \u001b[0m_commonType\u001b[0m\u001b[1;33m(\u001b[0m\u001b[0ma\u001b[0m\u001b[1;33m)\u001b[0m\u001b[1;33m\u001b[0m\u001b[0m\n\u001b[0;32m    519\u001b[0m \u001b[1;33m\u001b[0m\u001b[0m\n",
      "\u001b[1;32mC:\\Users\\Lovro\\Anaconda3\\lib\\site-packages\\numpy\\linalg\\linalg.py\u001b[0m in \u001b[0;36m_assertNdSquareness\u001b[1;34m(*arrays)\u001b[0m\n\u001b[0;32m    210\u001b[0m     \u001b[1;32mfor\u001b[0m \u001b[0ma\u001b[0m \u001b[1;32min\u001b[0m \u001b[0marrays\u001b[0m\u001b[1;33m:\u001b[0m\u001b[1;33m\u001b[0m\u001b[0m\n\u001b[0;32m    211\u001b[0m         \u001b[1;32mif\u001b[0m \u001b[0mmax\u001b[0m\u001b[1;33m(\u001b[0m\u001b[0ma\u001b[0m\u001b[1;33m.\u001b[0m\u001b[0mshape\u001b[0m\u001b[1;33m[\u001b[0m\u001b[1;33m-\u001b[0m\u001b[1;36m2\u001b[0m\u001b[1;33m:\u001b[0m\u001b[1;33m]\u001b[0m\u001b[1;33m)\u001b[0m \u001b[1;33m!=\u001b[0m \u001b[0mmin\u001b[0m\u001b[1;33m(\u001b[0m\u001b[0ma\u001b[0m\u001b[1;33m.\u001b[0m\u001b[0mshape\u001b[0m\u001b[1;33m[\u001b[0m\u001b[1;33m-\u001b[0m\u001b[1;36m2\u001b[0m\u001b[1;33m:\u001b[0m\u001b[1;33m]\u001b[0m\u001b[1;33m)\u001b[0m\u001b[1;33m:\u001b[0m\u001b[1;33m\u001b[0m\u001b[0m\n\u001b[1;32m--> 212\u001b[1;33m             \u001b[1;32mraise\u001b[0m \u001b[0mLinAlgError\u001b[0m\u001b[1;33m(\u001b[0m\u001b[1;34m'Last 2 dimensions of the array must be square'\u001b[0m\u001b[1;33m)\u001b[0m\u001b[1;33m\u001b[0m\u001b[0m\n\u001b[0m\u001b[0;32m    213\u001b[0m \u001b[1;33m\u001b[0m\u001b[0m\n\u001b[0;32m    214\u001b[0m \u001b[1;32mdef\u001b[0m \u001b[0m_assertFinite\u001b[0m\u001b[1;33m(\u001b[0m\u001b[1;33m*\u001b[0m\u001b[0marrays\u001b[0m\u001b[1;33m)\u001b[0m\u001b[1;33m:\u001b[0m\u001b[1;33m\u001b[0m\u001b[0m\n",
      "\u001b[1;31mLinAlgError\u001b[0m: Last 2 dimensions of the array must be square"
     ],
     "output_type": "error"
    }
   ],
   "source": [
    "linalg.inv(DM)"
   ]
  },
  {
   "cell_type": "markdown",
   "metadata": {},
   "source": [
    "### (e) "
   ]
  },
  {
   "cell_type": "markdown",
   "metadata": {},
   "source": [
    "Proučite klasu [`LinearRegression`](http://scikit-learn.org/stable/modules/generated/sklearn.linear_model.LinearRegression.html#sklearn.linear_model.LinearRegression) iz modula [`sklearn.linear_model`](http://scikit-learn.org/stable/modules/classes.html#module-sklearn.linear_model). Uvjerite se da su težine koje izračunava ta funkcija (dostupne pomoću atributa `coef_` i `intercept_`) jednake onima koje ste izračunali gore. Izračunajte predikcije modela (metoda `predict`) i uvjerite se da je pogreška učenja identična onoj koju ste ranije izračunali."
   ]
  },
  {
   "cell_type": "code",
   "execution_count": null,
   "metadata": {
    "collapsed": false
   },
   "outputs": [],
   "source": [
    "from sklearn.linear_model import LinearRegression"
   ]
  },
  {
   "cell_type": "code",
   "execution_count": null,
   "metadata": {
    "collapsed": false
   },
   "outputs": [],
   "source": [
    "model = LinearRegression().fit(X,y) # sa fit dobijemo koeficijente koji predstavljaju w0, w1... točnije dobijemo hipotezu\n",
    "w1coef = model.coef_ #koeficijenti hipoteze\n",
    "w0coef = model.intercept_\n",
    "print(\"Formula: {0}x + {1}\".format(w1coef, w0coef))\n",
    "hmodel = model.predict(X) #izračunava vrijednost hipoteze za svaki x (skup primjera)\n",
    "errorRegression = mean_squared_error(y,hmodel) # racunanje greške \n",
    "if error == errorRegression:\n",
    "    print(\"Greške su iste\")"
   ]
  },
  {
   "cell_type": "markdown",
   "metadata": {},
   "source": [
    "### 2. Polinomijalna regresija i utjecaj šuma"
   ]
  },
  {
   "cell_type": "markdown",
   "metadata": {},
   "source": [
    "### (a)\n",
    "\n",
    "Razmotrimo sada regresiju na većem broju primjera. Definirajte funkciju `make_labels(X, f, noise=0)` koja uzima matricu neoznačenih primjera $\\mathbf{X}_{N\\times n}$ te generira vektor njihovih oznaka $\\mathbf{y}_{N\\times 1}$. Oznake se generiraju kao $y^{(i)} = f(x^{(i)})+\\mathcal{N}(0,\\sigma^2)$, gdje je $f:\\mathbb{R}^n\\to\\mathbb{R}$ stvarna funkcija koja je generirala podatke (koja nam je u stvarnosti nepoznata), a $\\sigma$ je standardna devijacija Gaussovog šuma, definirana parametrom `noise`. Za generiranje šuma možete koristiti funkciju [`numpy.random.normal`](http://docs.scipy.org/doc/numpy/reference/generated/numpy.random.normal.html). \n",
    "\n",
    "Generirajte skup za učenje od $N=50$ primjera uniformno distribuiranih u intervalu $[-5,5]$ pomoću funkcije $f(x) = 5 + x -2 x^2 -5 x^3$ uz šum  $\\sigma=200$:"
   ]
  },
  {
   "cell_type": "code",
   "execution_count": 8,
   "metadata": {
    "collapsed": false
   },
   "outputs": [],
   "source": [
    "from numpy.random import normal"
   ]
  },
  {
   "cell_type": "code",
   "execution_count": 9,
   "metadata": {
    "collapsed": false
   },
   "outputs": [
    {
     "data": {
      "text/plain": [
       "array([ 761.18275804,  572.91479806,  608.71517403,  420.6737968 ,\n",
       "        359.94849799,  229.22144881,  142.06210869,  331.14890276,\n",
       "        -13.90732504,  -68.10199887, -122.93352619,   87.3205991 ,\n",
       "        319.89843707, -407.58547121,  202.25168005, -118.49455092,\n",
       "        114.23244637, -332.77335335, -190.37847295,  -17.26149926,\n",
       "         41.47775519,  310.98345278,  150.62042861,   55.68887639,\n",
       "         11.83732562,  119.33237187, -399.6827896 ,  253.02574108,\n",
       "          5.73538396,  402.91428222, -150.13568763,   39.1974776 ,\n",
       "        -56.19357569,  -36.40180025,   56.60129491,   -3.58835822,\n",
       "       -199.0150805 , -138.83267494, -153.53984733,  -76.9548118 ,\n",
       "       -648.16851846, -155.81129274, -214.40994853,  -58.69263733,\n",
       "       -575.20411233, -589.08988658, -275.94099016, -397.48531243,\n",
       "       -337.80820481, -546.86616232])"
      ]
     },
     "execution_count": 9,
     "metadata": {},
     "output_type": "execute_result"
    }
   ],
   "source": [
    "def make_labels(X, f, noise=0) :\n",
    "    functionOnX = f(X)\n",
    "    s = np.random.normal(0, noise,size=X.shape)\n",
    "    y = functionOnX + s\n",
    "    return y\n",
    "\n",
    "fx = np.poly1d([-5,-2,1,5])\n",
    "X = np.linspace(-5,5)\n",
    "sigma = 200\n",
    "make_labels(X, fx, sigma)"
   ]
  },
  {
   "cell_type": "markdown",
   "metadata": {},
   "source": [
    "Prikažite taj skup funkcijom [`scatter`](http://matplotlib.org/api/pyplot_api.html#matplotlib.pyplot.scatter)."
   ]
  },
  {
   "cell_type": "code",
   "execution_count": 10,
   "metadata": {
    "collapsed": false
   },
   "outputs": [
    {
     "data": {
      "image/png": "[encoded data removed]",
      "text/plain": [
       "<matplotlib.figure.Figure at 0x141b1def9b0>"
      ]
     },
     "metadata": {},
     "output_type": "display_data"
    }
   ],
   "source": [
    "fx = np.poly1d([-5,-2,1,5])\n",
    "X = np.linspace(-5,5)\n",
    "sigma = 200\n",
    "y = make_labels(X, fx, sigma)\n",
    "plt.scatter(X,y)\n",
    "plt.show()"
   ]
  },
  {
   "cell_type": "markdown",
   "metadata": {},
   "source": [
    "### (b)"
   ]
  },
  {
   "cell_type": "markdown",
   "metadata": {},
   "source": [
    "Trenirajte model polinomijalne regresije stupnja $d=3$. Na istom grafikonu prikažite naučeni model $h(\\mathbf{x})=\\mathbf{w}^\\intercal\\tilde{\\mathbf{x}}$ i primjere za učenje. Izračunajte pogrešku učenja modela."
   ]
  },
  {
   "cell_type": "code",
   "execution_count": 319,
   "metadata": {
    "collapsed": false,
    "scrolled": true
   },
   "outputs": [
    {
     "name": "stdout",
     "output_type": "stream",
     "text": [
      "[ -4.7469605    2.32432193  -0.48809728 -19.79705477]\n"
     ]
    },
    {
     "data": {
      "image/png": "[encoded data removed]",
      "text/plain": [
       "<matplotlib.figure.Figure at 0x141b73f6898>"
      ]
     },
     "metadata": {},
     "output_type": "display_data"
    },
    {
     "name": "stdout",
     "output_type": "stream",
     "text": [
      "32665.3115492\n"
     ]
    }
   ],
   "source": [
    "fx = np.poly1d([-5,-2,1,5])\n",
    "X = np.linspace(-5,5)\n",
    "sigma = 200\n",
    "y = make_labels(X, fx, sigma) #stvarne vrijesnosti, naučeni model\n",
    "ytrain_polynomal = sp.polyfit(X,y,3)\n",
    "print(ytrain_polynomal)\n",
    "#ytrain = fx(X)\n",
    "plt.scatter(X,y);\n",
    "plt.plot(X, sp.polyval(ytrain_polynomal,X),label=\"Greška učenja\")\n",
    "legend()\n",
    "plt.show()\n",
    "error = mean_squared_error(y,sp.polyval(ytrain_polynomal,X))\n",
    "print(error)"
   ]
  },
  {
   "cell_type": "markdown",
   "metadata": {},
   "source": [
    "### 3. Odabir modela"
   ]
  },
  {
   "cell_type": "markdown",
   "metadata": {},
   "source": [
    "### (a)\n",
    "\n",
    "Na skupu podataka iz zadatka 2 trenirajte pet modela linearne regresije $\\mathcal{H}_d$ različite složenosti, gdje je $d$ stupanj polinoma, $d\\in\\{1,3,5,10,20\\}$. Prikažite na istome grafikonu skup za učenje i funkcije $h_d(\\mathbf{x})$ za svih pet modela (preporučujemo koristiti `plot` unutar `for` petlje). Izračunajte pogrešku učenja svakog od modela.\n",
    "\n",
    "**Q:** Koji model ima najmanju pogrešku učenja i zašto?"
   ]
  },
  {
   "cell_type": "code",
   "execution_count": 320,
   "metadata": {
    "collapsed": false,
    "scrolled": true
   },
   "outputs": [
    {
     "name": "stdout",
     "output_type": "stream",
     "text": [
      "d=1: error= 42024.084629628414\n",
      "d=3: error= 32665.31154920912\n",
      "d=5: error= 32629.368703455697\n",
      "d=10: error=25770.061964184926\n",
      "d=20: error=18195.59273753802\n"
     ]
    },
    {
     "data": {
      "image/png": "[encoded data removed]",
      "text/plain": [
       "<matplotlib.figure.Figure at 0x141b7316518>"
      ]
     },
     "metadata": {},
     "output_type": "display_data"
    }
   ],
   "source": [
    "sigma = 200\n",
    "\n",
    "y1train_p = sp.polyfit(X,y,1)\n",
    "error_1 = mean_squared_error(y, sp.polyval(y1train_p,X))\n",
    "\n",
    "y3train_p = sp.polyfit(X,y,3)\n",
    "error_3 = mean_squared_error(y,sp.polyval(y3train_p,X))\n",
    "\n",
    "y5train_p = sp.polyfit(X,y,5)\n",
    "error_5 = mean_squared_error(y,sp.polyval(y5train_p,X))\n",
    "\n",
    "y10train_p = sp.polyfit(X,y,10)\n",
    "error_10 = mean_squared_error(y,sp.polyval(y10train_p,X))\n",
    "\n",
    "y20train_p = sp.polyfit(X,y,20)\n",
    "error_20 = mean_squared_error(y,sp.polyval(y20train_p,X))\n",
    "\n",
    "print(\"d=1: error= {0}\\nd=3: error= {1}\\nd=5: error= {2}\\nd=10: error={3}\\nd=20: error={4}\".format(error_1,error_3,error_5,error_10,error_20))\n",
    "\n",
    "plt.scatter(X,y)\n",
    "plt.plot(X,sp.polyval(y1train_p,X),\"r\",label=\"d=1\");\n",
    "plt.plot(X,sp.polyval(y3train_p,X),\"b\",label=\"d=3\")\n",
    "plt.plot(X,sp.polyval(y5train_p,X),\"g\",label=\"d=5\")\n",
    "plt.plot(X,sp.polyval(y10train_p,X),\"y\",label=\"d=10\")\n",
    "plt.plot(X,sp.polyval(y20train_p,X),\"k\",label=\"d=20\")\n",
    "legend()\n",
    "plt.show()"
   ]
  },
  {
   "cell_type": "markdown",
   "metadata": {},
   "source": [
    "### (b)"
   ]
  },
  {
   "cell_type": "markdown",
   "metadata": {},
   "source": [
    "Razdvojite skup primjera iz zadatka 2 pomoću funkcije [`cross_validation.train_test_split`](http://scikit-learn.org/stable/modules/generated/sklearn.cross_validation.train_test_split.html#sklearn.cross_validation.train_test_split) na skup za učenja i skup za ispitivanje u omjeru 1:1. Prikažite na jednom grafikonu pogrešku učenja i ispitnu pogrešku za modele polinomijalne regresije $\\mathcal{H}_d$, sa stupnjem polinoma $d$ u rasponu $d\\in\\{1,20\\}$. Radi preciznosti, funkcije $h(\\mathbf{x})$ iscrtajte na cijelom skupu primjera (ali pogrešku generalizacije računajte, naravno, samo na ispitnome skupu). Budući da kvadratna pogreška brzo raste za veće stupnjeve polinoma, umjesto da iscrtate izravno iznose pogrešaka, iscrtajte njihove logaritme.\n",
    "\n",
    "**NB:** Podjela na skupa za učenje i skup za ispitivanje mora za svih pet modela biti identična.\n",
    "\n",
    "**Q:** Je li rezultat u skladu s očekivanjima? Koji biste model odabrali i zašto?\n",
    "\n",
    "**Q:** Pokrenite iscrtavanje više puta. U čemu je problem? Bi li problem bio jednako izražen kad bismo imali više primjera? Zašto?"
   ]
  },
  {
   "cell_type": "code",
   "execution_count": 13,
   "metadata": {
    "collapsed": false
   },
   "outputs": [],
   "source": [
    "from sklearn import cross_validation"
   ]
  },
  {
   "cell_type": "code",
   "execution_count": 322,
   "metadata": {
    "collapsed": false
   },
   "outputs": [
    {
     "name": "stdout",
     "output_type": "stream",
     "text": [
      "[ 10.95645823  10.84938562  10.37516335  10.36725021  10.35001548\n",
      "  10.28457644  10.24303691  10.2348549   10.07836853  10.07258365\n",
      "  10.04099653  10.00648404   9.96658664   9.76415538   9.6657832\n",
      "   9.66577449   9.61629641   9.42584527   9.39382383   9.31861378]\n",
      "[ 10.24193331  10.57986339  10.79139906  10.80072371  10.80603043\n",
      "  10.69002045  10.75332909  10.70915334  10.78585299  10.78484138\n",
      "  10.3748377   11.27713571  12.05508505  14.32526925  14.36252586\n",
      "  14.34799304  15.1682018   18.78115223  17.92216268  21.37824639]\n"
     ]
    },
    {
     "data": {
      "image/png": "[encoded data removed]",
      "text/plain": [
       "<matplotlib.figure.Figure at 0x141b7591588>"
      ]
     },
     "metadata": {},
     "output_type": "display_data"
    }
   ],
   "source": [
    "X = linspace(-5,5)\n",
    "x_train, x_test, y_train, y_test = cross_validation.train_test_split(X, y,test_size=0.5)\n",
    "learning_error_array = [0,0,0,0,0,0,0,0,0,0,0,0,0,0,0,0,0,0,0,0]\n",
    "testing_error_array =  [0,0,0,0,0,0,0,0,0,0,0,0,0,0,0,0,0,0,0,0]\n",
    "for i in range(1,21):\n",
    "    ytrain_p = sp.polyfit(x_train,y_train,i)\n",
    "    error_learning = mean_squared_error(y_train, sp.polyval(ytrain_p,x_train))\n",
    "    learning_error_array[i-1]=math.log(error_learning)\n",
    "    ypredicted = sp.polyval(ytrain_p,x_test)\n",
    "    error_testing = mean_squared_error(y_test, ypredicted);\n",
    "    testing_error_array[i-1]=math.log(error_testing)\n",
    "    # print(\"d={0}\\ngreška učenja: {1}\\nispitna greška: {2}\\n\".format(i,error_learning,error_testing))\n",
    "    \n",
    "learning = np.asarray(learning_error_array)\n",
    "print(learning)\n",
    "testing = np.asarray(testing_error_array)\n",
    "print(testing)\n",
    "complexity = np.arange(1,21)\n",
    "plt.plot(complexity,learning,\"r\",label=\"Greška učenja\")\n",
    "plt.plot(complexity,testing,\"b\",label=\"Greška ispitivanja\")\n",
    "legend()\n",
    "plt.show()"
   ]
  },
  {
   "cell_type": "markdown",
   "metadata": {},
   "source": [
    "### (c)"
   ]
  },
  {
   "cell_type": "markdown",
   "metadata": {},
   "source": [
    "Točnost modela ovisi o (1) njegovoj složenosti (stupanj $d$ polinoma), (2) broju primjera $N$, i (3) količini šuma. Kako biste to analizirali, nacrtajte grafikone pogrešaka kao u 3b, ali za sve kombinacija broja primjera $N\\in\\{100,200,1000\\}$ i količine šuma $\\sigma\\in\\{100,200,500\\}$ (ukupno 9 grafikona). Upotrijebite funkciju [`subplots`](http://matplotlib.org/examples/pylab_examples/subplots_demo.html) kako biste pregledno posložili grafikone u tablicu $3\\times 3$. Podatci se generiraju na isti način kao u zadatku 2.\n",
    "\n",
    "**NB:** Pobrinite se da svi grafikoni budu generirani nad usporedivim skupovima podataka, na sljedeći način. Generirajte najprije svih 1000 primjera, podijelite ih na skupove za učenje i skupove za ispitivanje (dva skupa od po 500 primjera). Zatim i od skupa za učenje i od skupa za ispitivanje načinite tri različite verzije, svaka s drugačijom količinom šuma (ukupno 2x3=6 verzija podataka). Kako bi simulirali veličinu skupa podataka, od tih dobivenih 6 skupova podataka uzorkujte trećinu, dvije trećine i sve podatke. Time ste dobili 18 skupova podataka -- skup za učenje i za testiranje za svaki od devet grafova."
   ]
  },
  {
   "cell_type": "markdown",
   "metadata": {},
   "source": [
    "***Q:*** Jesu li rezultati očekivani? Obrazložite."
   ]
  },
  {
   "cell_type": "code",
   "execution_count": 324,
   "metadata": {
    "collapsed": false
   },
   "outputs": [
    {
     "name": "stderr",
     "output_type": "stream",
     "text": [
      "C:\\Users\\Lovro\\Anaconda3\\lib\\site-packages\\ipykernel\\__main__.py:36: VisibleDeprecationWarning: using a non-integer number instead of an integer will result in an error in the future\n",
      "C:\\Users\\Lovro\\Anaconda3\\lib\\site-packages\\ipykernel\\__main__.py:37: VisibleDeprecationWarning: using a non-integer number instead of an integer will result in an error in the future\n",
      "C:\\Users\\Lovro\\Anaconda3\\lib\\site-packages\\ipykernel\\__main__.py:38: VisibleDeprecationWarning: using a non-integer number instead of an integer will result in an error in the future\n",
      "C:\\Users\\Lovro\\Anaconda3\\lib\\site-packages\\ipykernel\\__main__.py:39: VisibleDeprecationWarning: using a non-integer number instead of an integer will result in an error in the future\n"
     ]
    },
    {
     "data": {
      "image/png": "[encoded data removed]",
      "text/plain": [
       "<matplotlib.figure.Figure at 0x141b479ba20>"
      ]
     },
     "metadata": {},
     "output_type": "display_data"
    }
   ],
   "source": [
    "plt.figure(figsize=(15,12))\n",
    "X = np.linspace(-5,5,1000)\n",
    "fx = np.poly1d([-5,-2,1,5])\n",
    "noise = [100,200,500]\n",
    "N = [100,200,1000]\n",
    "x_train_500, x_test_500 = cross_validation.train_test_split(X, test_size=0.5)#x za treniranje i x za ucenje\n",
    "x_train = []\n",
    "x_test = []\n",
    "y_train = []\n",
    "y_test = []\n",
    "counter = 331\n",
    "def calculateErrorDrawGrapf(sigma,N,x_train, x_test, y_train, y_test):\n",
    "    for i in range(1,21):\n",
    "        ytrain_p = sp.polyfit(x_train,y_train,i)\n",
    "        error_learning = mean_squared_error(y_train, sp.polyval(ytrain_p,x_train))\n",
    "        learning_error_array[i-1]=math.log(error_learning)\n",
    "        ypredicted = sp.polyval(ytrain_p,x_test)\n",
    "        error_testing = mean_squared_error(y_test, ypredicted);\n",
    "        testing_error_array[i-1]=math.log(error_testing)\n",
    "        # print(\"d={0}\\ngreška učenja: {1}\\nispitna greška: {2}\\n\".format(i,error_learning,error_testing))\n",
    "        \n",
    "    learning = np.asarray(learning_error_array)\n",
    "    testing = np.asarray(testing_error_array)\n",
    "    complexity = np.arange(1,21)\n",
    "    plt.subplot(counter)\n",
    "    plt.plot(complexity, learning,\"r\",label=\"Greška učenja\")\n",
    "    plt.plot(complexity, testing,\"b\",label=\"Greška ispitivanja\")\n",
    "    plt.title('Sigma={0}, N={1}'.format(sigma,N))\n",
    "    legend()\n",
    "      \n",
    "for sigma in noise: #za svaki šum\n",
    "    y_train_sigma = make_labels(x_train_500, fx, sigma)#y za treniranje\n",
    "    y_test_sigma = make_labels(x_test_500, fx, sigma)#y za test\n",
    "    for exampleNumber in N:\n",
    "        x_train = [];x_test=[];y_train=[];y_test=[]\n",
    "        x_train.append(x_train_500[::1000/exampleNumber])\n",
    "        x_test.append(x_test_500[::1000/exampleNumber]) \n",
    "        y_train.append(y_train_sigma[::1000/exampleNumber])\n",
    "        y_test.append(y_test_sigma[::1000/exampleNumber])\n",
    "        x_train_ar = np.asarray(x_train)\n",
    "        x_train_array = np.asarray(x_train)[0]\n",
    "        y_train_array = np.asarray(y_train)[0]\n",
    "        x_test_array = np.asarray(x_test)[0]\n",
    "        y_test_array = np.asarray(y_test)[0]\n",
    "        calculateErrorDrawGrapf(sigma,exampleNumber,x_train_array,x_test_array,y_train_array,y_test_array)\n",
    "        counter+=1"
   ]
  },
  {
   "cell_type": "markdown",
   "metadata": {},
   "source": [
    "### 4. Regularizirana regresija"
   ]
  },
  {
   "cell_type": "markdown",
   "metadata": {},
   "source": [
    "### (a)\n",
    "\n",
    "U gornjim eksperimentima nismo koristili **regularizaciju**. Vratimo se najprije na primjer iz zadatka 1. Na primjerima iz tog zadatka izračunajte težine $\\mathbf{w}$ za polinomijalni regresijski model stupnja $d=3$ uz L2-regularizaciju (tzv. *ridge regression*), prema izrazu $\\mathbf{w}=(\\mathbf{\\Phi}^\\intercal\\mathbf{\\Phi}+\\lambda\\mathbf{I})^{-1}\\mathbf{\\Phi}^\\intercal\\mathbf{y}$. Napravite izračun težina za regularizacijske faktore $\\lambda=0$, $\\lambda=1$ i $\\lambda=10$ te usporedite dobivene težine.\n",
    "\n",
    "**Q:** Kojih je dimenzija matrica koju treba invertirati?\n",
    "\n",
    "**Q:** Po čemu se razlikuju dobivene težine i je li ta razlika očekivana? Obrazložite."
   ]
  },
  {
   "cell_type": "code",
   "execution_count": 16,
   "metadata": {
    "collapsed": false
   },
   "outputs": [
    {
     "name": "stdout",
     "output_type": "stream",
     "text": [
      "lambda=0, w=[[ 4.        ]\n",
      " [-5.91666667]\n",
      " [ 3.375     ]\n",
      " [-0.45833333]]\n",
      "\n",
      "\n",
      "lambda=1, w=[[ 1.79567372]\n",
      " [-0.24729075]\n",
      " [-0.0175289 ]\n",
      " [ 0.07014758]]\n",
      "\n",
      "\n",
      "lambda=10, w=[[ 0.43312265]\n",
      " [ 0.11060671]\n",
      " [ 0.13827839]\n",
      " [ 0.03093411]]\n",
      "\n",
      "\n"
     ]
    }
   ],
   "source": [
    "X = np.array([[0],[1],[2],[4]])\n",
    "y = np.array([[4],[1],[2],[5]])\n",
    "poly = skp.PolynomialFeatures(3)\n",
    "DM = poly.fit_transform(X)\n",
    "DMTranspose = DM.transpose()\n",
    "DMMultiplication = np.dot(DMTranspose,DM)\n",
    "rows_I = DMMultiplication.shape[0]\n",
    "cols_I = DMMultiplication.shape[1]\n",
    "identityMatrix = np.identity(rows_I)\n",
    "lambdas = [0,1,10]\n",
    "for lamb in lambdas:\n",
    "    identityMatrixLambda = identityMatrix*lamb\n",
    "    sum = DMMultiplication + identityMatrixLambda\n",
    "    DMMultiplicationSumInvers = linalg.inv(sum)\n",
    "    InverseTranspose = np.dot(DMMultiplicationSumInvers,DMTranspose)\n",
    "    wlambda = np.dot(InverseTranspose,y)\n",
    "    print(\"lambda={0}, w={1}\\n\\n\".format(lamb,wlambda))"
   ]
  },
  {
   "cell_type": "markdown",
   "metadata": {},
   "source": [
    "### (b)"
   ]
  },
  {
   "cell_type": "markdown",
   "metadata": {},
   "source": [
    "Proučite klasu [`Ridge`](http://scikit-learn.org/stable/modules/generated/sklearn.linear_model.Ridge.html#sklearn.linear_model.Ridge) iz modula [`sklearn.linear_model`](http://scikit-learn.org/stable/modules/classes.html#module-sklearn.linear_model), koja implementira L2-regularizirani regresijski model. Parametar $\\alpha$ odgovara parametru $\\lambda$. Primijenite model na istim primjerima kao u prethodnom zadatku i ispišite težine $\\mathbf{w}$ (atributi `coef_` i `intercept_`).\n",
    "\n",
    "**Q:** Jesu li težine identične onima iz zadatka 4a? Ako nisu, objasnite zašto je to tako i kako biste to popravili."
   ]
  },
  {
   "cell_type": "code",
   "execution_count": 17,
   "metadata": {
    "collapsed": false
   },
   "outputs": [],
   "source": [
    "from sklearn.linear_model import Ridge"
   ]
  },
  {
   "cell_type": "code",
   "execution_count": 18,
   "metadata": {
    "collapsed": false
   },
   "outputs": [
    {
     "name": "stdout",
     "output_type": "stream",
     "text": [
      "Lambda:0, Coef: [[ 0.         -5.91666667  3.375      -0.45833333]], intercept: [ 4.]\n",
      "Lambda:1, Coef: [[ 0.         -0.69079365 -0.2831746   0.1445805 ]], intercept: [ 3.05696145]\n",
      "Lambda:10, Coef: [[ 0.         -0.15897295 -0.13423067  0.0815601 ]], intercept: [ 2.49444184]\n"
     ]
    }
   ],
   "source": [
    "for lamb in lambdas:\n",
    "    clf = Ridge(alpha=lamb)\n",
    "    clf.fit(DM, y) \n",
    "    print(\"Lambda:{0}, Coef: {1}, intercept: {2}\".format(lamb, clf.coef_, clf.intercept_))"
   ]
  },
  {
   "cell_type": "markdown",
   "metadata": {},
   "source": [
    "### 5. Regularizirana polinomijalna regresija"
   ]
  },
  {
   "cell_type": "markdown",
   "metadata": {},
   "source": [
    "### (a)\n",
    "\n",
    "Vratimo se na slučaj $N=50$ slučajno generiranih primjera iz zadatka 2. Trenirajte modele polinomijalne regresije $\\mathcal{H}_{\\lambda,d}$ za $\\lambda\\in\\{0,100\\}$ i $d\\in\\{2,10\\}$ (ukupno četiri modela). Skicirajte pripadne funkcije $h(\\mathbf{x})$ i primjere (na jednom grafikonu; preporučujemo koristiti `plot` unutar `for` petlje).\n",
    "\n",
    "**Q:** Jesu li rezultati očekivani? Obrazložite."
   ]
  },
  {
   "cell_type": "code",
   "execution_count": 325,
   "metadata": {
    "collapsed": false
   },
   "outputs": [
    {
     "data": {
      "text/plain": [
       "<matplotlib.legend.Legend at 0x141b42e1c50>"
      ]
     },
     "execution_count": 325,
     "metadata": {},
     "output_type": "execute_result"
    },
    {
     "data": {
      "image/png": "[encoded data removed]",
      "text/plain": [
       "<matplotlib.figure.Figure at 0x141aeee1710>"
      ]
     },
     "metadata": {},
     "output_type": "display_data"
    }
   ],
   "source": [
    "from sklearn.pipeline import make_pipeline\n",
    "X = linspace(-5,5,50)\n",
    "fx = np.poly1d([-5,-2,1,5])\n",
    "sigma = 200\n",
    "y = make_labels(X, fx, sigma) #stvarne vrijesnosti, naučeni model\n",
    "lambdas = [0,100]\n",
    "plt.plot(X,y,\"ro\")\n",
    "X = X.reshape(50,1)\n",
    "colors = [\"r\",\"b\"]\n",
    "i = 0\n",
    "for lamb in lambdas:\n",
    "    ridge_model = Ridge(alpha=lamb)\n",
    "    model = make_pipeline(skp.PolynomialFeatures(2, include_bias=False), ridge_model)\n",
    "    model.fit(X,y)\n",
    "    predicted_values = model.predict(X)\n",
    "    plt.plot(X,predicted_values,colors[i],label=\"lambda={:d}, d={:d}\".format(lamb,2))\n",
    "    i+=1\n",
    "    \n",
    "colors = [\"g\",\"k\"]\n",
    "i = 0\n",
    "for lamb in lambdas:\n",
    "    ridge_model = Ridge(alpha=lamb)\n",
    "    model = make_pipeline(skp.PolynomialFeatures(10), ridge_model)\n",
    "    model.fit(X,y)\n",
    "    predicted_values = model.predict(X)\n",
    "    plt.plot(X,predicted_values,colors[i],label=\"lambda={:d}, d={:d}\".format(lamb,10))\n",
    "    i+=1\n",
    "    \n",
    "legend()"
   ]
  },
  {
   "cell_type": "markdown",
   "metadata": {},
   "source": [
    "### (b)\n",
    "\n",
    "Kao u zadataku 3b, razdvojite primjere na skup za učenje i skup za ispitivanje u omjeru 1:1. Prikažite krivulje logaritama pogreške učenja i ispitne pogreške u ovisnosti za model $\\mathcal{H}_{d=20,\\lambda}$, podešavajući faktor regularizacije $\\lambda$ u rasponu $\\lambda\\in\\{0,1,\\dots,50\\}$.\n",
    "\n",
    "**Q:** Kojoj strani na grafikonu odgovara područje prenaučenosti a kojoj podnaučenosti. Zašto?\n",
    "\n",
    "**Q:** Koju biste vrijednosti za $\\lambda$ izabrali na temelju ovih grafikona i zašto?\n"
   ]
  },
  {
   "cell_type": "code",
   "execution_count": 76,
   "metadata": {
    "collapsed": false
   },
   "outputs": [
    {
     "data": {
      "image/png": "[encoded data removed]",
      "text/plain": [
       "<matplotlib.figure.Figure at 0x141b1ed5eb8>"
      ]
     },
     "metadata": {},
     "output_type": "display_data"
    }
   ],
   "source": [
    "X = linspace(-5,5)\n",
    "fx = np.poly1d([-5,-2,1,5])\n",
    "sigma = 200\n",
    "y = make_labels(X, fx, sigma) #stvarne vrijesnosti, naučeni model\n",
    "x_train, x_test, y_train, y_test = cross_validation.train_test_split(X, y,test_size=0.5)\n",
    "x_train = x_train.reshape(25,1)\n",
    "y_train = y_train.reshape(25,1)\n",
    "x_test = x_test.reshape(25,1)\n",
    "y_test = y_test.reshape(25,1)\n",
    "learning_error_array = [0] * 50\n",
    "testing_error_array =  [0] * 50\n",
    "lambdas_list = range(0,51)\n",
    "for i in range(0,51):\n",
    "    ridge_model = Ridge(alpha=i)\n",
    "    model = make_pipeline(skp.PolynomialFeatures(20), ridge_model)\n",
    "    model.fit(x_train,y_train)\n",
    "    error_learning = mean_squared_error(y_train,model.predict(x_train))\n",
    "    learning_error_array[i-1]=math.log(error_learning)\n",
    "    error_testing = mean_squared_error(y_test,model.predict(x_test))\n",
    "    testing_error_array[i-1]=math.log(error_testing)\n",
    "\n",
    "    #print(\"d={0}\\ngreška učenja: {1}\\nispitna greška: {2}\\n\".format(i,error_learning,error_testing))\n",
    "    \n",
    "learning = np.asarray(learning_error_array)\n",
    "testing = np.asarray(testing_error_array)\n",
    "lambdas_array = np.arange(0,50)\n",
    "plt.plot(lambdas_array,learning,\"r\",label=\"Greška učenja\")\n",
    "plt.plot(lambdas_array,testing,\"b\",label=\"Greška ispitivanja\")\n",
    "legend()\n",
    "plt.show()"
   ]
  },
  {
   "cell_type": "markdown",
   "metadata": {},
   "source": [
    "### 6. L1-regularizacija i L2-regularizacija"
   ]
  },
  {
   "cell_type": "markdown",
   "metadata": {},
   "source": [
    "Svrha regularizacije jest potiskivanje težina modela $\\mathbf{w}$ prema nuli, kako bi model bio što jednostavniji. Složenost modela može se okarakterizirati normom pripadnog vektora težina $\\mathbf{w}$, i to tipično L2-normom ili L1-normom. Za jednom trenirani model možemo izračunati i broj ne-nul značajki, ili L0-normu, pomoću sljedeće funkcije:"
   ]
  },
  {
   "cell_type": "code",
   "execution_count": 60,
   "metadata": {
    "collapsed": false
   },
   "outputs": [],
   "source": [
    "def nonzeroes(coef, tol=1e-6): \n",
    "    return len(coef) - len(coef[sp.isclose(0, coef, atol=tol)])"
   ]
  },
  {
   "cell_type": "markdown",
   "metadata": {},
   "source": [
    "### (a)\n",
    "\n",
    "Za ovaj zadatak upotrijebite skup za učenje i skup za testiranje iz zadatka 3b. Trenirajte modele **L2-regularizirane** polinomijalne regresije stupnja $d=20$, mijenjajući hiperparametar $\\lambda$ u rasponu $\\{1,2,\\dots,100\\}$. Za svaki od treniranih modela izračunajte L{0,1,2}-norme vektora težina $\\mathbf{w}$ te ih prikažite kao funkciju od $\\lambda$.\n",
    "\n",
    "**Q:** Objasnite oblik obiju krivulja. Hoće li krivulja za $\\|\\mathbf{w}\\|_2$ doseći nulu? Zašto? Je li to problem? Zašto?\n",
    "\n",
    "**Q:** Za $\\lambda=100$, koliki je postotak težina modela jednak nuli, odnosno koliko je model rijedak?"
   ]
  },
  {
   "cell_type": "code",
   "execution_count": 306,
   "metadata": {
    "collapsed": false
   },
   "outputs": [
    {
     "name": "stdout",
     "output_type": "stream",
     "text": [
      "19\n"
     ]
    },
    {
     "data": {
      "image/png": "[encoded data removed]",
      "text/plain": [
       "<matplotlib.figure.Figure at 0x141b74b45f8>"
      ]
     },
     "metadata": {},
     "output_type": "display_data"
    }
   ],
   "source": [
    "from sklearn import linear_model\n",
    "X = linspace(-5,5)\n",
    "fx = np.poly1d([-5,-2,1,5])\n",
    "sigma = 200\n",
    "y = make_labels(X, fx, sigma) #stvarne vrijesnosti, naučeni model\n",
    "x_train, x_test, y_train, y_test = cross_validation.train_test_split(X, y,test_size=0.5)\n",
    "x_train = x_train.reshape(25,1)\n",
    "y_train = y_train.reshape(25,1)\n",
    "x_test = x_test.reshape(25,1)\n",
    "y_test = y_test.reshape(25,1)\n",
    "L2 = []\n",
    "L1 = []\n",
    "L0 = []\n",
    "for i in range(1,101):\n",
    "    ridge_model = Ridge(alpha=i)\n",
    "    model = make_pipeline(skp.PolynomialFeatures(20), ridge_model)\n",
    "    model.fit(x_train,y_train)\n",
    "    L2_norm = np.linalg.norm(ridge_model.coef_[0], ord=2)\n",
    "    L1_norm = np.linalg.norm(ridge_model.coef_[0], ord=1)\n",
    "    L0_norm = nonzeroes(ridge_model.coef_[0])\n",
    "    if(i==100):\n",
    "        print(L0_norm)\n",
    "    L2.append(L2_norm)\n",
    "    L1.append(L1_norm)\n",
    "    L0.append(L0_norm)\n",
    "\n",
    "lambdas = arange(1,101)\n",
    "L2_a = np.asarray(L2)\n",
    "L1_a = np.asarray(L1)\n",
    "L0_a = np.asarray(L0)\n",
    "plt.plot(lambdas,L2_a,\"r\",label=\"L2\")\n",
    "plt.plot(lambdas,L1_a,\"b\",label=\"L1\")\n",
    "plt.plot(lambdas,L0_a,\"g\",label=\"L0\")\n",
    "legend()\n",
    "plt.show()"
   ]
  },
  {
   "cell_type": "markdown",
   "metadata": {},
   "source": [
    "### (b)"
   ]
  },
  {
   "cell_type": "markdown",
   "metadata": {},
   "source": [
    "Glavna prednost L1-regularizirane regresije (ili *LASSO regression*) nad L2-regulariziranom regresijom jest u tome što L1-regularizirana regresija rezultira **rijetkim modelima** (engl. *sparse models*), odnosno modelima kod kojih su mnoge težine pritegnute na nulu. Pokažite da je to doista tako, ponovivši gornji eksperiment s **L1-regulariziranom** regresijom, implementiranom u klasi  [`Lasso`](http://scikit-learn.org/stable/modules/generated/sklearn.linear_model.Lasso.html) u modulu [`sklearn.linear_model`](http://scikit-learn.org/stable/modules/classes.html#module-sklearn.linear_model)."
   ]
  },
  {
   "cell_type": "code",
   "execution_count": 326,
   "metadata": {
    "collapsed": false
   },
   "outputs": [
    {
     "name": "stderr",
     "output_type": "stream",
     "text": [
      "C:\\Users\\Lovro\\Anaconda3\\lib\\site-packages\\sklearn\\linear_model\\coordinate_descent.py:466: ConvergenceWarning: Objective did not converge. You might want to increase the number of iterations\n",
      "  ConvergenceWarning)\n"
     ]
    },
    {
     "name": "stdout",
     "output_type": "stream",
     "text": [
      "10\n"
     ]
    },
    {
     "data": {
      "image/png": "[encoded data removed]",
      "text/plain": [
       "<matplotlib.figure.Figure at 0x141b736cb00>"
      ]
     },
     "metadata": {},
     "output_type": "display_data"
    }
   ],
   "source": [
    "from sklearn import linear_model\n",
    "X = linspace(-5,5)\n",
    "fx = np.poly1d([-5,-2,1,5])\n",
    "sigma = 200\n",
    "y = make_labels(X, fx, sigma) #stvarne vrijesnosti, naučeni model\n",
    "x_train, x_test, y_train, y_test = cross_validation.train_test_split(X, y,test_size=0.5)\n",
    "x_train = x_train.reshape(25,1)\n",
    "y_train = y_train.reshape(25,1)\n",
    "x_test = x_test.reshape(25,1)\n",
    "y_test = y_test.reshape(25,1)\n",
    "L2 = []\n",
    "L1 = []\n",
    "L0 = []\n",
    "for i in range(1,101):\n",
    "    lasso_model =  linear_model.Lasso(alpha=i)\n",
    "    model = make_pipeline(skp.PolynomialFeatures(20), lasso_model)\n",
    "    model.fit(x_train,y_train)\n",
    "    L2_norm = np.linalg.norm(lasso_model.coef_, ord=2)\n",
    "    L1_norm = np.linalg.norm(lasso_model.coef_, ord=1)\n",
    "    L0_norm = nonzeroes(lasso_model.coef_)\n",
    "    L2.append(L2_norm)\n",
    "    L1.append(L1_norm)\n",
    "    L0.append(L0_norm)\n",
    "    if i==100:\n",
    "        print(L0_norm)\n",
    "        \n",
    "lambdas = arange(1,101)\n",
    "L2_a = np.asarray(L2)\n",
    "L1_a = np.asarray(L1)\n",
    "L0_a = np.asarray(L0)\n",
    "plt.plot(lambdas,L2_a,\"r\",label=\"L2\")\n",
    "plt.plot(lambdas,L1_a,\"b\",label=\"L1\")\n",
    "plt.plot(lambdas,L0_a,\"g\",label=\"L0\")\n",
    "legend()\n",
    "plt.show()"
   ]
  },
  {
   "cell_type": "markdown",
   "metadata": {},
   "source": [
    "### 7. Predviđanje cijena nekretnina u Bostonu"
   ]
  },
  {
   "cell_type": "markdown",
   "metadata": {},
   "source": [
    "Do sada smo razmatrali isključivo univarijatnu regresiju, tj. imali smo samo jednu značajku ($n=1$). U većini stvarnih problema baratamo s većim brojem značajki. Razmotrimo sada jedan nešto realniji problem, kod kojega postoji više značajki, pa je potrebno napraviti multivarijatnu regresiju.\n",
    "\n",
    "Učitajte skup podataka *Boston House Prices*:"
   ]
  },
  {
   "cell_type": "code",
   "execution_count": 189,
   "metadata": {
    "collapsed": false
   },
   "outputs": [
    {
     "name": "stdout",
     "output_type": "stream",
     "text": [
      "(506, 13)\n",
      "(506,)\n"
     ]
    }
   ],
   "source": [
    "from sklearn.datasets import load_boston\n",
    "boston = load_boston()\n",
    "print(boston.data.shape)\n",
    "print(boston.target.shape)"
   ]
  },
  {
   "cell_type": "markdown",
   "metadata": {},
   "source": [
    "Skup sadrži 506 primjera sa 13 numeričkih značajki. Opis skupa možete dobiti na sljedeći način:"
   ]
  },
  {
   "cell_type": "code",
   "execution_count": 191,
   "metadata": {
    "collapsed": false
   },
   "outputs": [
    {
     "name": "stdout",
     "output_type": "stream",
     "text": [
      "Boston House Prices dataset\n",
      "\n",
      "Notes\n",
      "------\n",
      "Data Set Characteristics:  \n",
      "\n",
      "    :Number of Instances: 506 \n",
      "\n",
      "    :Number of Attributes: 13 numeric/categorical predictive\n",
      "    \n",
      "    :Median Value (attribute 14) is usually the target\n",
      "\n",
      "    :Attribute Information (in order):\n",
      "        - CRIM     per capita crime rate by town\n",
      "        - ZN       proportion of residential land zoned for lots over 25,000 sq.ft.\n",
      "        - INDUS    proportion of non-retail business acres per town\n",
      "        - CHAS     Charles River dummy variable (= 1 if tract bounds river; 0 otherwise)\n",
      "        - NOX      nitric oxides concentration (parts per 10 million)\n",
      "        - RM       average number of rooms per dwelling\n",
      "        - AGE      proportion of owner-occupied units built prior to 1940\n",
      "        - DIS      weighted distances to five Boston employment centres\n",
      "        - RAD      index of accessibility to radial highways\n",
      "        - TAX      full-value property-tax rate per $10,000\n",
      "        - PTRATIO  pupil-teacher ratio by town\n",
      "        - B        1000(Bk - 0.63)^2 where Bk is the proportion of blacks by town\n",
      "        - LSTAT    % lower status of the population\n",
      "        - MEDV     Median value of owner-occupied homes in $1000's\n",
      "\n",
      "    :Missing Attribute Values: None\n",
      "\n",
      "    :Creator: Harrison, D. and Rubinfeld, D.L.\n",
      "\n",
      "This is a copy of UCI ML housing dataset.\n",
      "http://archive.ics.uci.edu/ml/datasets/Housing\n",
      "\n",
      "\n",
      "This dataset was taken from the StatLib library which is maintained at Carnegie Mellon University.\n",
      "\n",
      "The Boston house-price data of Harrison, D. and Rubinfeld, D.L. 'Hedonic\n",
      "prices and the demand for clean air', J. Environ. Economics & Management,\n",
      "vol.5, 81-102, 1978.   Used in Belsley, Kuh & Welsch, 'Regression diagnostics\n",
      "...', Wiley, 1980.   N.B. Various transformations are used in the table on\n",
      "pages 244-261 of the latter.\n",
      "\n",
      "The Boston house-price data has been used in many machine learning papers that address regression\n",
      "problems.   \n",
      "     \n",
      "**References**\n",
      "\n",
      "   - Belsley, Kuh & Welsch, 'Regression diagnostics: Identifying Influential Data and Sources of Collinearity', Wiley, 1980. 244-261.\n",
      "   - Quinlan,R. (1993). Combining Instance-Based and Model-Based Learning. In Proceedings on the Tenth International Conference of Machine Learning, 236-243, University of Massachusetts, Amherst. Morgan Kaufmann.\n",
      "   - many more! (see http://archive.ics.uci.edu/ml/datasets/Housing)\n",
      "\n"
     ]
    }
   ],
   "source": [
    "print(boston.DESCR)"
   ]
  },
  {
   "cell_type": "markdown",
   "metadata": {},
   "source": [
    "### (a)"
   ]
  },
  {
   "cell_type": "markdown",
   "metadata": {},
   "source": [
    "Vaš je zadatak da izgradite regresijski model za predviđanje cijene nekretnine (`y=boston.target`) na temelju 13 raspoloživih značajki za svaku nekretninu (`X=boston.data`). Cilj je pronaći najbolji mogući linearni model regresije na ovom skupu podataka i provjeriti njegovu točnost u smislu pogreške kvadratnog odstupanja ([`mean_squared_error`]( http://scikit-learn.org/stable/modules/generated/sklearn.metrics.mean_squared_error.html#sklearn.metrics.mean_squared_error)). \n",
    "\n",
    "Hiperparametri modela koje treba isprobati su:\n",
    "\n",
    "* **Regularizacija:** Bez regularizacije ([`LinearRegression`](http://scikit-learn.org/stable/modules/generated/sklearn.linear_model.LinearRegression.html#sklearn.linear_model.LinearRegression)), L2-regularizacija ([`Ridge`](http://scikit-learn.org/stable/modules/generated/sklearn.linear_model.Ridge.html#sklearn.linear_model.Ridge)) i L1-regularizacija ([`Lasso`](http://scikit-learn.org/stable/modules/generated/sklearn.linear_model.Lasso.html#sklearn.linear_model.Lasso));\n",
    "* **Značajke:** Izvornih 13 značajki, polinomijalne značajke (isprobajte različite stupnjeve polinoma $d$), samo interakcijske značajke (opcija `interaction_only` u klasi [`PolynomialFeatures`](http://scikit-learn.org/stable/modules/generated/sklearn.preprocessing.PolynomialFeatures.html));\n",
    "\n",
    "Kao i inače, za odabir i ispitivanje modela koristit ćemo **unakrsnu provjeru** (engl. *cross-validation*). Skup primjera za učenje podijelit ćemo na **skup za učenje**, **skup za provjeru** i **skup za ispitivanje** u omjeru (otprilike) 3:1:1. Kao u uvijek, model trebate trenirati na skupu za učenje, odabir modela (odnosno optimizaciju hiperparametra) trebate provesti na skupu za provjeru, a konačno vrednovanje modela trebate načiniti na skupu za ispitivanje. Konačno vrednovanje radite samo jednom, za model koji ste na skupu za provjeru odabrali kao optimalan.\n",
    "\n",
    "**NB:** Nakon što odaberete optimalan model na skupu za provjeru, prije konačnog ispitivanja odabrani model ponovno trenirajte na uniji skupova za učenje i provjeru. Na taj način iskorištavate maksimalno iskorištavate dostupne podatke i model će u pravilu biti bolji.\n",
    "\n",
    "Podjela na skup za učenje, provjeru i ispitivanje u ovom je slučaju fiksna kako bi svi imali identične skupove i kako bi rezultati bili usporedivi. (U stvarnosti biste ovakav eksperiment radili malo drugačije: koristili biste višestruku unakrsnu provjeru ili ugnježđenu unakrsnu provjeru. Više o tome u budućim vježbama.) \n",
    "\n",
    "Koristite sljedeće skupove:"
   ]
  },
  {
   "cell_type": "code",
   "execution_count": 315,
   "metadata": {
    "collapsed": false
   },
   "outputs": [
    {
     "name": "stdout",
     "output_type": "stream",
     "text": [
      "(303, 13) (101, 13) (102, 13)\n"
     ]
    }
   ],
   "source": [
    "from sklearn import cross_validation\n",
    "X_train, X_rest, y_train, y_rest = cross_validation.train_test_split(boston.data,boston.target,train_size=0.6,random_state=42)\n",
    "X_validate, X_test, y_validate, y_test = cross_validation.train_test_split(X_rest,y_rest,test_size=0.5,random_state=42)\n",
    "print(X_train.shape, X_validate.shape ,X_test.shape)"
   ]
  },
  {
   "cell_type": "code",
   "execution_count": 316,
   "metadata": {
    "collapsed": false
   },
   "outputs": [
    {
     "name": "stdout",
     "output_type": "stream",
     "text": [
      "LINEARNA REGRESIJA\n",
      "Greška ucenja: 8.084601979695108\n",
      "Greška ispitivanja na skupu za ispitivanje: 23.13710125983009\n",
      "Greška skupa za provjeru optimizacije modela: 4.2896640566915565\n",
      "Greška ispitivanja unije skupa za ucenje i skupa za provjeru: 16.818299111936565\n",
      "\n",
      "L1-norma\n",
      "Greška učenja: 4.3066638983969225\n",
      "Greška skupa za provjeru optimizacije modela: 12.952455543624435\n",
      "Greška ispitivanja na skupu za ispitivanje: 13.73416070344111\n",
      "Greška ispitivanja unije skupa za ucenje i skupa za provjeru: 13.303175409971834\n",
      "\n",
      "L2-norma\n",
      "Greška učenja: 4.883901503487696\n",
      "Greška skupa za provjeru optimizacije modela: 24.800020830303847\n",
      "Greška ispitivanja na skupu za ispitivanje: 15.068497360992113\n",
      "Greška ispitivanja unije skupa za ucenje i skupa za provjeru: 12.470389973540373\n"
     ]
    },
    {
     "name": "stderr",
     "output_type": "stream",
     "text": [
      "C:\\Users\\Lovro\\Anaconda3\\lib\\site-packages\\sklearn\\linear_model\\coordinate_descent.py:466: ConvergenceWarning: Objective did not converge. You might want to increase the number of iterations\n",
      "  ConvergenceWarning)\n"
     ]
    }
   ],
   "source": [
    "from sklearn import linear_model\n",
    "from sklearn.linear_model import LinearRegression\n",
    "#Linearna regresija\n",
    "print(\"LINEARNA REGRESIJA\")\n",
    "poly = skp.PolynomialFeatures(2,interaction_only=True)\n",
    "X_train_transform = poly.fit_transform(X_train)\n",
    "X_validate_transform = poly.fit_transform(X_validate)\n",
    "X_test_transform = poly.fit_transform(X_test)\n",
    "\n",
    "linear_model = LinearRegression().fit(X_train_transform,y_train)\n",
    "y_predicted = linear_model.predict(X_train_transform)\n",
    "linear_learning_error = mean_squared_error(y_train,y_predicted)\n",
    "print(\"Greška ucenja: {0}\".format(linear_learning_error))\n",
    "\n",
    "y_predicted_test = linear_model.predict(X_test_transform)\n",
    "linear_testing_error = mean_squared_error(y_test,y_predicted_test)\n",
    "print(\"Greška ispitivanja na skupu za ispitivanje: {0}\".format(linear_testing_error))\n",
    "\n",
    "linear_model = LinearRegression().fit(X_validate_transform,y_validate)\n",
    "y_validate_predict = linear_model.predict(X_validate_transform)\n",
    "linear_validate_error = mean_squared_error(y_validate,y_validate_predict)\n",
    "print(\"Greška skupa za provjeru optimizacije modela: {0}\".format(linear_validate_error))\n",
    "\n",
    "#spajanje skupa primjera za ucenje i skupa primjera za provjeru\n",
    "x_train_validate = np.append(X_train,X_validate,axis=0)\n",
    "y_train_validate = np.append(y_train,y_validate,axis=0)\n",
    "x_train_validate_transform = poly.fit_transform(x_train_validate)\n",
    "y_train_validate = np.append(y_train,y_validate)\n",
    "linear_model = LinearRegression().fit(x_train_validate_transform,y_train_validate)\n",
    "y_test_combined = linear_model.predict(X_test_transform)\n",
    "linear_test_combined_error = mean_squared_error(y_test,y_test_combined)\n",
    "print(\"Greška ispitivanja unije skupa za ucenje i skupa za provjeru: {0}\".format(linear_test_combined_error))\n",
    "\n",
    "#L1-norma\n",
    "\n",
    "print(\"\\nL1-norma\")\n",
    "lasso_model = sklearn.linear_model.Lasso(alpha=4)\n",
    "model = make_pipeline(skp.PolynomialFeatures(3,interaction_only=True), lasso_model)\n",
    "model.fit(X_train,y_train)\n",
    "y_train_predict = model.predict(X_train)\n",
    "print(\"Greška učenja: {0}\".format(mean_squared_error(y_train,y_train_predict)))\n",
    "y_validate_predict = model.predict(X_validate)\n",
    "print(\"Greška skupa za provjeru optimizacije modela: {0}\".format(mean_squared_error(y_validate,y_validate_predict)))\n",
    "y_test_predict = model.predict(X_test)\n",
    "print(\"Greška ispitivanja na skupu za ispitivanje: {0}\".format(mean_squared_error(y_test,y_test_predict)))\n",
    "x_train_validate = np.append(X_train,X_validate,axis=0)\n",
    "y_train_validate = np.append(y_train,y_validate,axis=0)\n",
    "model.fit(x_train_validate,y_train_validate)\n",
    "y_predict_train_validate_test = model.predict(X_test)\n",
    "print(\"Greška ispitivanja unije skupa za ucenje i skupa za provjeru: {0}\".format(mean_squared_error(y_test,y_predict_train_validate_test)))\n",
    "\n",
    "\n",
    "#L2-norma\n",
    "\n",
    "print(\"\\nL2-norma\")\n",
    "ridge_model = Ridge(alpha=0)\n",
    "model = make_pipeline(skp.PolynomialFeatures(2,interaction_only=True), ridge_model)\n",
    "model.fit(X_train,y_train)\n",
    "y_train_predict = model.predict(X_train)\n",
    "print(\"Greška učenja: {0}\".format(mean_squared_error(y_train,y_train_predict)))\n",
    "y_validate_predict = model.predict(X_validate)\n",
    "print(\"Greška skupa za provjeru optimizacije modela: {0}\".format(mean_squared_error(y_validate,y_validate_predict)))\n",
    "y_test_predict = model.predict(X_test)\n",
    "print(\"Greška ispitivanja na skupu za ispitivanje: {0}\".format(mean_squared_error(y_test,y_test_predict)))\n",
    "x_train_validate = np.append(X_train,X_validate,axis=0)\n",
    "y_train_validate = np.append(y_train,y_validate,axis=0)\n",
    "model.fit(x_train_validate,y_train_validate)\n",
    "y_predict_train_validate_test = model.predict(X_test)\n",
    "print(\"Greška ispitivanja unije skupa za ucenje i skupa za provjeru: {0}\".format(mean_squared_error(y_test,y_predict_train_validate_test)))"
   ]
  },
  {
   "cell_type": "markdown",
   "metadata": {},
   "source": [
    "**Q:** Koliko značajki ima svaki od modela koji ste isprobali?\n",
    "\n",
    "**Q:** Provjerite točnost odabranog modela na (1) skupu za učenje, (2) skupu za provjeru, (3) uniji ta dva skupa i (4) skupu za ispitivanje. Jesu li odnosi između točnosti modela na ova četiri skupa očekivana? Obrazložite.\n",
    "\n",
    "**Q:** Kod treniranja regresijskog modela moguće je postaviti `fit_intercept=False`, čime se izbjegava optimiranje težine $w_0$. Trenirajte odabrani model s tom postavkom. Usporedite s točnošću optimalnog modela. Je li rezultat očekivan? Obrazložite. Ima li predobrada značajki ikakvog utjecaja na ovu razliku?"
   ]
  },
  {
   "cell_type": "code",
   "execution_count": 317,
   "metadata": {
    "collapsed": false
   },
   "outputs": [
    {
     "name": "stdout",
     "output_type": "stream",
     "text": [
      "LINEARNA REGRESIJA\n",
      "Greška ucenja: 8.084601979695108\n",
      "Greška ispitivanja na skupu za ispitivanje: 23.13710125983009\n",
      "Greška skupa za provjeru optimizacije modela: 0.6373661986269464\n",
      "Greška ispitivanja unije skupa za ucenje i skupa za provjeru: 16.818299111936565\n",
      "\n",
      "L1-norma\n",
      "Greška učenja: 4.3066638983969225\n",
      "Greška skupa za provjeru optimizacije modela: 12.952455543624435\n",
      "Greška ispitivanja na skupu za ispitivanje: 13.73416070344111\n",
      "Greška ispitivanja unije skupa za ucenje i skupa za provjeru: 13.303175409971834\n",
      "\n",
      "L2-norma\n",
      "Greška učenja: 4.883901503487696\n",
      "Greška skupa za provjeru optimizacije modela: 24.800020830303847\n",
      "Greška ispitivanja na skupu za ispitivanje: 15.068497360992113\n",
      "Greška ispitivanja unije skupa za ucenje i skupa za provjeru: 12.470389973540373\n"
     ]
    },
    {
     "name": "stderr",
     "output_type": "stream",
     "text": [
      "C:\\Users\\Lovro\\Anaconda3\\lib\\site-packages\\sklearn\\linear_model\\coordinate_descent.py:466: ConvergenceWarning: Objective did not converge. You might want to increase the number of iterations\n",
      "  ConvergenceWarning)\n"
     ]
    }
   ],
   "source": [
    "from sklearn import linear_model\n",
    "from sklearn.linear_model import LinearRegression\n",
    "#Linearna regresija\n",
    "print(\"LINEARNA REGRESIJA\")\n",
    "poly = skp.PolynomialFeatures(2,interaction_only=True)\n",
    "X_train_transform = poly.fit_transform(X_train)\n",
    "X_validate_transform = poly.fit_transform(X_validate)\n",
    "X_test_transform = poly.fit_transform(X_test)\n",
    "\n",
    "linear_model = LinearRegression().fit(X_train_transform,y_train)\n",
    "y_predicted = linear_model.predict(X_train_transform)\n",
    "linear_learning_error = mean_squared_error(y_train,y_predicted)\n",
    "print(\"Greška ucenja: {0}\".format(linear_learning_error))\n",
    "\n",
    "y_predicted_test = linear_model.predict(X_test_transform)\n",
    "linear_testing_error = mean_squared_error(y_test,y_predicted_test)\n",
    "print(\"Greška ispitivanja na skupu za ispitivanje: {0}\".format(linear_testing_error))\n",
    "\n",
    "linear_model = LinearRegression(fit_intercept=False).fit(X_validate_transform,y_validate)\n",
    "y_validate_predict = linear_model.predict(X_validate_transform)\n",
    "linear_validate_error = mean_squared_error(y_validate,y_validate_predict)\n",
    "print(\"Greška skupa za provjeru optimizacije modela: {0}\".format(linear_validate_error))\n",
    "\n",
    "#spajanje skupa primjera za ucenje i skupa primjera za provjeru\n",
    "x_train_validate = np.append(X_train,X_validate,axis=0)\n",
    "y_train_validate = np.append(y_train,y_validate,axis=0)\n",
    "x_train_validate_transform = poly.fit_transform(x_train_validate)\n",
    "y_train_validate = np.append(y_train,y_validate)\n",
    "linear_model = LinearRegression().fit(x_train_validate_transform,y_train_validate)\n",
    "y_test_combined = linear_model.predict(X_test_transform)\n",
    "linear_test_combined_error = mean_squared_error(y_test,y_test_combined)\n",
    "print(\"Greška ispitivanja unije skupa za ucenje i skupa za provjeru: {0}\".format(linear_test_combined_error))\n",
    "\n",
    "#L1-norma\n",
    "\n",
    "print(\"\\nL1-norma\")\n",
    "lasso_model = sklearn.linear_model.Lasso(alpha=4)\n",
    "model = make_pipeline(skp.PolynomialFeatures(3,interaction_only=True), lasso_model)\n",
    "model.fit(X_train,y_train)\n",
    "y_train_predict = model.predict(X_train)\n",
    "print(\"Greška učenja: {0}\".format(mean_squared_error(y_train,y_train_predict)))\n",
    "y_validate_predict = model.predict(X_validate)\n",
    "print(\"Greška skupa za provjeru optimizacije modela: {0}\".format(mean_squared_error(y_validate,y_validate_predict)))\n",
    "y_test_predict = model.predict(X_test)\n",
    "print(\"Greška ispitivanja na skupu za ispitivanje: {0}\".format(mean_squared_error(y_test,y_test_predict)))\n",
    "x_train_validate = np.append(X_train,X_validate,axis=0)\n",
    "y_train_validate = np.append(y_train,y_validate,axis=0)\n",
    "model.fit(x_train_validate,y_train_validate)\n",
    "y_predict_train_validate_test = model.predict(X_test)\n",
    "print(\"Greška ispitivanja unije skupa za ucenje i skupa za provjeru: {0}\".format(mean_squared_error(y_test,y_predict_train_validate_test)))\n",
    "\n",
    "\n",
    "#L2-norma\n",
    "\n",
    "print(\"\\nL2-norma\")\n",
    "ridge_model = Ridge(alpha=0)\n",
    "model = make_pipeline(skp.PolynomialFeatures(2,interaction_only=True), ridge_model)\n",
    "model.fit(X_train,y_train)\n",
    "y_train_predict = model.predict(X_train)\n",
    "print(\"Greška učenja: {0}\".format(mean_squared_error(y_train,y_train_predict)))\n",
    "y_validate_predict = model.predict(X_validate)\n",
    "print(\"Greška skupa za provjeru optimizacije modela: {0}\".format(mean_squared_error(y_validate,y_validate_predict)))\n",
    "y_test_predict = model.predict(X_test)\n",
    "print(\"Greška ispitivanja na skupu za ispitivanje: {0}\".format(mean_squared_error(y_test,y_test_predict)))\n",
    "x_train_validate = np.append(X_train,X_validate,axis=0)\n",
    "y_train_validate = np.append(y_train,y_validate,axis=0)\n",
    "model.fit(x_train_validate,y_train_validate)\n",
    "y_predict_train_validate_test = model.predict(X_test)\n",
    "print(\"Greška ispitivanja unije skupa za ucenje i skupa za provjeru: {0}\".format(mean_squared_error(y_test,y_predict_train_validate_test)))"
   ]
  },
  {
   "cell_type": "code",
   "execution_count": null,
   "metadata": {
    "collapsed": true
   },
   "outputs": [],
   "source": [
    ""
   ]
  }
 ],
 "metadata": {
  "anaconda-cloud": {},
  "kernelspec": {
   "display_name": "Python [Root]",
   "language": "python",
   "name": "Python [Root]"
  },
  "language_info": {
   "codemirror_mode": {
    "name": "ipython",
    "version": 3.0
   },
   "file_extension": ".py",
   "mimetype": "text/x-python",
   "name": "python",
   "nbconvert_exporter": "python",
   "pygments_lexer": "ipython3",
   "version": "3.5.2"
  }
 },
 "nbformat": 4,
 "nbformat_minor": 0
}