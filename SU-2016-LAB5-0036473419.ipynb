{
 "cells": [
  {
   "cell_type": "markdown",
   "metadata": {},
   "source": [
    "Sveučilište u Zagrebu<br>\n",
    "Fakultet elektrotehnike i računarstva\n",
    "\n",
    "## Strojno učenje 2016./2017.\n",
    "\n",
    "<a href=\"http://www.fer.unizg.hr/predmet/su\">http://www.fer.unizg.hr/predmet/su</a>"
   ]
  },
  {
   "cell_type": "markdown",
   "metadata": {},
   "source": [
    "### Laboratorijska vježba 5: Bayesove mreže i naivni Bayesov klasifikator\n",
    "\n",
    "(c) 2015-2016 Jan Šnajder, Domagoj Alagić\n",
    "\n",
    "<i>Verzija: 0.1</i> <br/>\n",
    "<i>Zadnji put ažurirano: 27. prosinca 2016.</i> "
   ]
  },
  {
   "cell_type": "markdown",
   "metadata": {},
   "source": [
    "Objavljeno: **27. prosinca 2016.**<br>\n",
    "Rok za predaju: U terminu vježbe u tjednu od **2. siječnja 2017.**"
   ]
  },
  {
   "cell_type": "markdown",
   "metadata": {},
   "source": [
    "### Upute\n",
    "\n",
    "Peta laboratorijska vježba sastoji se od tri zadatka. Kako bi kvalitetnije, ali i na manje zamoran način usvojili gradivo ovog kolegija, potrudili smo se uključiti tri vrste zadataka: **1)** implementacija manjih algoritama, modela ili postupaka; **2)** eksperimenti s raznim modelima te njihovim hiperparametrima, te **3)** primjena modela na (stvarnim) podatcima. Ovim zadatcima pokrivamo dvije paradigme učenja: učenje izgradnjom (engl. *learning by building*) i učenje eksperimentiranjem (engl. *learning by experimenting*).\n",
    "\n",
    "U nastavku slijedite upute navedene u ćelijama s tekstom. Rješavanje vježbe svodi se na **dopunjavanje ove bilježnice**: umetanja ćelije ili više njih **ispod** teksta zadatka, pisanja odgovarajućeg kôda te evaluiranja ćelija. \n",
    "\n",
    "Osigurajte da u potpunosti **razumijete** kôd koji ste napisali. Kod predaje vježbe, morate biti u stanju na zahtjev asistenta (ili demonstratora) preinačiti i ponovno evaluirati Vaš kôd. Nadalje, morate razumjeti teorijske osnove onoga što radite, u okvirima onoga što smo obradili na predavanju. Ispod nekih zadataka možete naći i pitanja koja služe kao smjernice za bolje razumijevanje gradiva (**nemojte pisati** odgovore na pitanja u bilježnicu). Stoga se nemojte ograničiti samo na to da riješite zadatak, nego slobodno eksperimentirajte. To upravo i jest svrha ovih vježbi.\n",
    "\n",
    "Vježbe trebate raditi **samostalno**. Možete se konzultirati s drugima o načelnom načinu rješavanja, ali u konačnici morate sami odraditi vježbu. U protivnome vježba nema smisla."
   ]
  },
  {
   "cell_type": "code",
   "execution_count": 1,
   "metadata": {
    "collapsed": false
   },
   "outputs": [
    {
     "name": "stdout",
     "output_type": "stream",
     "text": [
      "Populating the interactive namespace from numpy and matplotlib\n"
     ]
    }
   ],
   "source": [
    "import numpy as np\n",
    "import pandas as pd\n",
    "import matplotlib.pyplot as plt\n",
    "%pylab inline\n",
    "%load_ext autoreload\n",
    "%autoreload 2"
   ]
  },
  {
   "cell_type": "markdown",
   "metadata": {},
   "source": [
    "### 1. Bayesove mreže"
   ]
  },
  {
   "cell_type": "markdown",
   "metadata": {},
   "source": [
    "Ovaj zadatak bavit će se Bayesovim mrežama, jednim od poznatijih probabilističkih grafičkih modela (*probabilistic graphical models*; PGM). Za lakše eksperimentiranje koristit ćemo programski paket [pgmpy](https://github.com/pgmpy/pgmpy). Molimo Vas da provjerite imate li ovaj paket te da ga instalirate ako ga nemate."
   ]
  },
  {
   "cell_type": "markdown",
   "metadata": {},
   "source": [
    "#### (a)\n",
    "\n",
    "Prvo ćemo pogledati udžbenički primjer s prskalicom. U ovom primjeru razmatramo Bayesovu mrežu koja modelira zavisnosti između oblačnosti (sl. varijabla $C$), kiše ($R$), prskalice ($S$) i mokre trave ($W$). U ovom primjeru također pretpostavljamo da već imamo parametre vjerojatnosnih distribucija svih čvorova. Sve varijable modelirane su Bernoullijevom razdiobom."
   ]
  },
  {
   "cell_type": "markdown",
   "metadata": {},
   "source": [
    "![This](bayes-net-sprinkler.jpg)"
   ]
  },
  {
   "cell_type": "markdown",
   "metadata": {},
   "source": [
    "Koristeći paket [pgmpy](https://github.com/pgmpy/pgmpy), konstruirajte Bayesovu mrežu iz gornjeg primjera. Zatim provedite **egzaktno** zaključivanje za sljedeće upite: $P(w=1)$, $P(s=1|w=1)$, $P(r=1|w=1)$, $P(c=1|s=1, r=1)$ i $P(c=1)$. Provedite zaključivanje na papiru i uvjerite se da ste ispravno konstruirali mrežu.\n",
    "\n",
    "**NB:** Bacite oko na službenu demonstraciju danu na https://github.com/pgmpy/pgmpy/blob/dev/examples/Monte%20Hall%20Problem.ipynb."
   ]
  },
  {
   "cell_type": "code",
   "execution_count": 2,
   "metadata": {
    "collapsed": false
   },
   "outputs": [],
   "source": [
    "from pgmpy.models import BayesianModel, NaiveBayes\n",
    "from pgmpy.factors.discrete import TabularCPD\n",
    "from pgmpy.inference import VariableElimination"
   ]
  },
  {
   "cell_type": "code",
   "execution_count": 11,
   "metadata": {
    "collapsed": false
   },
   "outputs": [
    {
     "name": "stdout",
     "output_type": "stream",
     "text": [
      "P(w=1):\n",
      "╒═════╤══════════╕\n",
      "│ W   │   phi(W) │\n",
      "╞═════╪══════════╡\n",
      "│ W_0 │   0.3529 │\n",
      "├─────┼──────────┤\n",
      "│ W_1 │   0.6471 │\n",
      "╘═════╧══════════╛\n",
      "\n",
      "\n",
      "P(s=1|w=1):\n",
      "╒═════╤══════════╕\n",
      "│ S   │   phi(S) │\n",
      "╞═════╪══════════╡\n",
      "│ S_0 │   0.5702 │\n",
      "├─────┼──────────┤\n",
      "│ S_1 │   0.4298 │\n",
      "╘═════╧══════════╛\n",
      "\n",
      "\n",
      "P(r=1|w=1):\n",
      "╒═════╤══════════╕\n",
      "│ R   │   phi(R) │\n",
      "╞═════╪══════════╡\n",
      "│ R_0 │   0.2921 │\n",
      "├─────┼──────────┤\n",
      "│ R_1 │   0.7079 │\n",
      "╘═════╧══════════╛\n",
      "\n",
      "\n",
      "P(c=1|s=1,r=1):\n",
      "╒═════╤══════════╕\n",
      "│ C   │   phi(C) │\n",
      "╞═════╪══════════╡\n",
      "│ C_0 │   0.5556 │\n",
      "├─────┼──────────┤\n",
      "│ C_1 │   0.4444 │\n",
      "╘═════╧══════════╛\n",
      "\n",
      "\n",
      "P(c=1):\n",
      "╒═════╤══════════╕\n",
      "│ C   │   phi(C) │\n",
      "╞═════╪══════════╡\n",
      "│ C_0 │   0.5000 │\n",
      "├─────┼──────────┤\n",
      "│ C_1 │   0.5000 │\n",
      "╘═════╧══════════╛\n"
     ]
    }
   ],
   "source": [
    "model = BayesianModel([('C', 'S'), ('C', 'R'),('S', 'W'),('R','W')])\n",
    "cpd_C = TabularCPD('C',2,[[0.5,0.5]])\n",
    "cpd_S = TabularCPD('S',2,[[0.5,0.9],[0.5,0.1]],evidence=['C'],evidence_card=[2])\n",
    "cpd_R = TabularCPD('R',2,[[0.8,0.2],[0.2,0.8]],evidence=['C'],evidence_card=[2])\n",
    "cpd_W = TabularCPD('W',2,[[1,0.1,0.1,0.01],[0,0.9,0.9,0.99]],evidence=['S','R'],evidence_card=[2,2])\n",
    "model.add_cpds(cpd_C,cpd_S,cpd_R,cpd_W)\n",
    "model.check_model()\n",
    "\n",
    "infer = VariableElimination(model)\n",
    "\n",
    "posterior_W = infer.query(['W'])\n",
    "print(\"P(w=1):\")\n",
    "print(posterior_W['W'])\n",
    "print(\"\\n\")\n",
    "\n",
    "posterior_S = infer.query(['S'],evidence={'W':1})\n",
    "print(\"P(s=1|w=1):\")\n",
    "print(posterior_S['S'])\n",
    "print(\"\\n\")\n",
    "\n",
    "posterior_R = infer.query(['R'],evidence={'W':1})\n",
    "print(\"P(r=1|w=1):\")\n",
    "print(posterior_R['R'])\n",
    "print(\"\\n\")\n",
    "\n",
    "posterior_C = infer.query(['C'],evidence={'S':1, 'R':1})\n",
    "print(\"P(c=1|s=1,r=1):\")\n",
    "print(posterior_C['C'])\n",
    "print(\"\\n\")\n",
    "\n",
    "posterior_C = infer.query(['C'])\n",
    "print(\"P(c=1):\")\n",
    "print(posterior_C['C'])"
   ]
  },
  {
   "cell_type": "markdown",
   "metadata": {},
   "source": [
    "**Q:** Koju zajedničku vjerojatnosnu razdiobu ova mreža modelira? Kako tu informaciju očitati iz mreže? <br>\n",
    "**Q:** U zadatku koristimo egzaktno zaključivanje. Kako ono radi? <br>\n",
    "**Q:** Ako je trava mokra ($w=1$), što je prema mreži vjerojatnije -- da je pala kiša ($r=1$) ili da je netko upalio prskalicu ($s=1$)? <br>\n",
    "**Q:** Zašto je vjerojatnost $P(c=1)$ drugačija od $P(c=1|s=1,r=1)$ ako znamo da čvorovi $S$ i $R$ nisu roditelji čvora $C$?"
   ]
  },
  {
   "cell_type": "markdown",
   "metadata": {},
   "source": [
    "#### (b)\n",
    "\n",
    "**Efekt objašnjavanja** (engl. *explaining away*) zanimljiv je fenomen u kojem se događa da se dvije varijable \"natječu\" za objašnjavanje treće. S obzirom na to da i prva i druga varijabla mogu samostalno objasniti treću, ono što se događa jest to da, ako znamo da se ostvarila treća varijabla, naše vjerovanje o prvoj varijabli mijenja ovisno o tome je li se ili nije dogodila druga varijabla (i obrnuto).\n",
    "\n",
    "Ovaj fenomen može se primijetiti na gornjoj mreži. U tom se slučaju varijable prskalice ($S$) i kiše ($R$) \"natječu\" za objašnjavanje mokre trave ($W$). Vaš zadatak je pokazati da se fenomen zaista događa."
   ]
  },
  {
   "cell_type": "code",
   "execution_count": 4,
   "metadata": {
    "collapsed": false
   },
   "outputs": [
    {
     "name": "stdout",
     "output_type": "stream",
     "text": [
      "P(s|w):\n",
      "╒═════╤══════════╕\n",
      "│ S   │   phi(S) │\n",
      "╞═════╪══════════╡\n",
      "│ S_0 │   0.5702 │\n",
      "├─────┼──────────┤\n",
      "│ S_1 │   0.4298 │\n",
      "╘═════╧══════════╛\n",
      "P(r|w):\n",
      "╒═════╤══════════╕\n",
      "│ R   │   phi(R) │\n",
      "╞═════╪══════════╡\n",
      "│ R_0 │   0.2921 │\n",
      "├─────┼──────────┤\n",
      "│ R_1 │   0.7079 │\n",
      "╘═════╧══════════╛\n",
      "P(r|w=1,s=0):\n",
      "╒═════╤══════════╕\n",
      "│ R   │   phi(R) │\n",
      "╞═════╪══════════╡\n",
      "│ R_0 │   0.0000 │\n",
      "├─────┼──────────┤\n",
      "│ R_1 │   1.0000 │\n",
      "╘═════╧══════════╛\n",
      "P(r|w=1,s=1):\n",
      "╒═════╤══════════╕\n",
      "│ R   │   phi(R) │\n",
      "╞═════╪══════════╡\n",
      "│ R_0 │   0.6796 │\n",
      "├─────┼──────────┤\n",
      "│ R_1 │   0.3204 │\n",
      "╘═════╧══════════╛\n"
     ]
    }
   ],
   "source": [
    "posterior_S=infer.query(['S'],evidence={'W':1})\n",
    "print(\"P(s|w):\")\n",
    "print(posterior_S['S'])\n",
    "\n",
    "posterior_R=infer.query(['R'],evidence={'W':1})\n",
    "print(\"P(r|w):\")\n",
    "print(posterior_R['R'])\n",
    "\n",
    "posterior_RnotS = infer.query(['R'],evidence={'W':1,'S':0})\n",
    "print(\"P(r|w=1,s=0):\")\n",
    "print(posterior_RnotS['R'])\n",
    "\n",
    "posterior_RyesS = infer.query(['R'],evidence={'W':1,'S':1})\n",
    "print(\"P(r|w=1,s=1):\")\n",
    "print(posterior_RyesS['R'])"
   ]
  },
  {
   "cell_type": "markdown",
   "metadata": {},
   "source": [
    "**Q:** Kako biste svojim riječima opisali ovaj fenomen, koristeći se ovim primjerom?"
   ]
  },
  {
   "cell_type": "markdown",
   "metadata": {},
   "source": [
    "#### (c) \n",
    "\n",
    "Koristeći [`BayesianModel.is_active_trail`](http://pgmpy.org/models.html#pgmpy.models.BayesianModel.BayesianModel.is_active_trail) provjerite jesu li varijable oblačnosti ($C$) i mokre trave ($W$) uvjetno nezavisne."
   ]
  },
  {
   "cell_type": "code",
   "execution_count": 8,
   "metadata": {
    "collapsed": false
   },
   "outputs": [
    {
     "name": "stdout",
     "output_type": "stream",
     "text": [
      "True\n"
     ]
    }
   ],
   "source": [
    "print(model.is_active_trail(start='C',end='W'))"
   ]
  },
  {
   "cell_type": "markdown",
   "metadata": {},
   "source": [
    "Što mora vrijediti kako te dvije varijable ne bi bile uvjetno nezavisne? Provjerite korištenjem iste funkcije."
   ]
  },
  {
   "cell_type": "code",
   "execution_count": 6,
   "metadata": {
    "collapsed": false
   },
   "outputs": [
    {
     "data": {
      "text/plain": [
       "False"
      ]
     },
     "execution_count": 6,
     "metadata": {},
     "output_type": "execute_result"
    }
   ],
   "source": [
    "model.is_active_trail(start='C',end='W',observed=['S','R'])"
   ]
  },
  {
   "cell_type": "markdown",
   "metadata": {},
   "source": [
    "**Q:** Kako možemo na temelju grafa saznati koje dvije varijable su, uz neka opažanja, uvjetno nezavisne? <br>\n",
    "**Q:** Zašto bismo uopće htjeli znati koje su varijable u mreži uvjetno nezavisne?"
   ]
  },
  {
   "cell_type": "markdown",
   "metadata": {},
   "source": [
    "### 2. Naivan Bayesov klasifikator"
   ]
  },
  {
   "cell_type": "markdown",
   "metadata": {},
   "source": [
    "Iako je naivni Bayes specijalna podvrsta Bayesovih mreža i mogao bi se modelirati paketom [pgmpy](https://github.com/pgmpy/pgmpy), ipak ćemo se vratiti na paket `sklearn` (radi jednostavnosti). Za demonstraciju rada Bayesovog klasifikatora s diskretnim značajkama treba nam skup primjera s diskretnim značajkama i oznakama klase. Jedan takav ogledni skup podataka jest *digits*:"
   ]
  },
  {
   "cell_type": "code",
   "execution_count": 12,
   "metadata": {
    "collapsed": false
   },
   "outputs": [
    {
     "name": "stdout",
     "output_type": "stream",
     "text": [
      "[[  0.   0.   5.  13.   9.   1.   0.   0.]\n",
      " [  0.   0.  13.  15.  10.  15.   5.   0.]\n",
      " [  0.   3.  15.   2.   0.  11.   8.   0.]\n",
      " [  0.   4.  12.   0.   0.   8.   8.   0.]\n",
      " [  0.   5.   8.   0.   0.   9.   8.   0.]\n",
      " [  0.   4.  11.   0.   1.  12.   7.   0.]\n",
      " [  0.   2.  14.   5.  10.  12.   0.   0.]\n",
      " [  0.   0.   6.  13.  10.   0.   0.   0.]]\n",
      "(1797,)\n"
     ]
    },
    {
     "data": {
      "text/plain": [
       "<matplotlib.figure.Figure at 0x2e761aa2ef0>"
      ]
     },
     "metadata": {},
     "output_type": "display_data"
    },
    {
     "data": {
      "image/png": "[encoded data removed]",
      "text/plain": [
       "<matplotlib.figure.Figure at 0x2e761c9d048>"
      ]
     },
     "metadata": {},
     "output_type": "display_data"
    }
   ],
   "source": [
    "from sklearn.datasets import load_digits\n",
    "digits = load_digits()\n",
    "plt.gray() \n",
    "plt.matshow(digits.images[0])\n",
    "print(digits.images[0])\n",
    "print(digits.target.shape)\n",
    "plt.show();"
   ]
  },
  {
   "cell_type": "markdown",
   "metadata": {
    "collapsed": true
   },
   "source": [
    "#### (a)\n",
    "\n",
    "Ako na ovom skupu želimo trenirati Bernoullijev naivni Bayesov klasifikator, značajke trebamo binarizirati. Proučite funkciju [`binarize`](http://scikit-learn.org/stable/modules/generated/sklearn.preprocessing.binarize.html) i binarizirajte skup podataka.\n",
    "\n",
    "Na binariziranom skupu podataka možemo trenirati naš model. Naravno, da bismo mogli ispitati koliko dobro model radi, trebamo izdvojiti dio skupa za ispitivanje. Proučite funkciju [`train_test_split`](http://scikit-learn.org/stable/modules/generated/sklearn.model_selection.train_test_split.html#sklearn.model_selection.train_test_split) te načinite podjelu skupa na 70% primjera za učenje i 30% primjera za ispitivanje."
   ]
  },
  {
   "cell_type": "code",
   "execution_count": 22,
   "metadata": {
    "collapsed": true
   },
   "outputs": [],
   "source": [
    "from sklearn.preprocessing import binarize\n",
    "from sklearn import cross_validation"
   ]
  },
  {
   "cell_type": "code",
   "execution_count": 23,
   "metadata": {
    "collapsed": false
   },
   "outputs": [],
   "source": [
    "X = binarize(digits.data,threshold=7.0)\n",
    "#y = binarize(digits.target,threshold=7.0).transpose()\n",
    "y=digits.target\n",
    "x_train, x_test, y_train, y_test = cross_validation.train_test_split(X, y,test_size=0.3,random_state=42)"
   ]
  },
  {
   "cell_type": "markdown",
   "metadata": {},
   "source": [
    "#### (b)\n",
    "\n",
    "Pročitajte opis modula [`naive_bayes`](http://scikit-learn.org/stable/modules/naive_bayes.html). Za klasifikaciju primjera s diskretnim značajkama treba nam tzv. *Bernoullijev naivni Bayes*, implementiran funkcijom [`BernoulliNB`](http://scikit-learn.org/stable/modules/generated/sklearn.naive_bayes.BernoulliNB.html#sklearn.naive_bayes.BernoulliNB]). Proučite tu funkciju. Trenirajte model na skupu *digits* (na skupu za učenje). Izračunajte točnost modela na skupu za učenje i na skupu za ispitivanje koristeći funkciju [`metrics.accuracy_score`](http://scikit-learn.org/stable/modules/generated/sklearn.metrics.accuracy_score.html)."
   ]
  },
  {
   "cell_type": "code",
   "execution_count": 24,
   "metadata": {
    "collapsed": false
   },
   "outputs": [
    {
     "name": "stdout",
     "output_type": "stream",
     "text": [
      "Točnost na skupu za učenje: 0.9029435163086714\n",
      "Točnost na skupu za ispitivanje: 0.8870370370370371\n"
     ]
    }
   ],
   "source": [
    "import sklearn.naive_bayes as nbay\n",
    "from sklearn.metrics import accuracy_score\n",
    "from sklearn.naive_bayes import BernoulliNB\n",
    "model = nbay.BernoulliNB()\n",
    "model.fit(x_train,y_train)\n",
    "y_train_predicted = model.predict(x_train)\n",
    "print(\"Točnost na skupu za učenje: {0}\".format(accuracy_score(y_train,y_train_predicted)))\n",
    "y_test_predicted = model.predict(x_test)\n",
    "print(\"Točnost na skupu za ispitivanje: {0}\".format(accuracy_score(y_test,y_test_predicted)))"
   ]
  },
  {
   "cell_type": "markdown",
   "metadata": {},
   "source": [
    "**Q:** Je li odnos između tih dviju pogrešaka očekivan? Zašto?"
   ]
  },
  {
   "cell_type": "markdown",
   "metadata": {},
   "source": [
    "#### (c)\n",
    "\n",
    "Trenirajte model bez zaglađivanja (`alpha=0`) te izračunajte točnost takvog modela na oba skupa podataka."
   ]
  },
  {
   "cell_type": "code",
   "execution_count": 25,
   "metadata": {
    "collapsed": false
   },
   "outputs": [
    {
     "name": "stdout",
     "output_type": "stream",
     "text": [
      "Točnost na skupu za učenje: 0.09944311853619729\n",
      "Točnost na skupu za ispitivanje: 0.09814814814814815\n"
     ]
    }
   ],
   "source": [
    "model = BernoulliNB(alpha=0)\n",
    "model.fit(x_train,y_train)\n",
    "y_train_predicted = model.predict(x_train)\n",
    "print(\"Točnost na skupu za učenje: {0}\".format(accuracy_score(y_train,y_train_predicted)))\n",
    "y_test_predicted = model.predict(x_test)\n",
    "print(\"Točnost na skupu za ispitivanje: {0}\".format(accuracy_score(y_test,y_test_predicted)))"
   ]
  },
  {
   "cell_type": "markdown",
   "metadata": {},
   "source": [
    "**Q:** U čemu je problem? Opišite svojim riječima."
   ]
  },
  {
   "cell_type": "markdown",
   "metadata": {},
   "source": [
    "### 3. Bayesov klasifikator za kontinuirane značajke"
   ]
  },
  {
   "cell_type": "markdown",
   "metadata": {},
   "source": [
    "#### (a)\n",
    "\n",
    "Učitajte skup podataka *Iris* i podijelite ga skup za učenje i skup za provjeru u omjeru 70:30. Koristite funkciju [`datasets.load_iris`](http://scikit-learn.org/stable/modules/generated/sklearn.datasets.load_iris.html)."
   ]
  },
  {
   "cell_type": "code",
   "execution_count": 26,
   "metadata": {
    "collapsed": true
   },
   "outputs": [],
   "source": [
    "from sklearn.datasets import load_iris\n",
    "from sklearn import cross_validation\n",
    "iris = load_iris()\n",
    "X = iris.data\n",
    "y = iris.target\n",
    "x_train, x_test, y_train, y_test = cross_validation.train_test_split(X, y,test_size=0.3,random_state=42)"
   ]
  },
  {
   "cell_type": "markdown",
   "metadata": {},
   "source": [
    "#### (b)\n",
    "\n",
    "Proučite razred [`GaussianNB`](http://scikit-learn.org/stable/modules/generated/sklearn.naive_bayes.GaussianNB.html) koji implementira naivan Bayesov klasifikator za kontinuirane značajke. Trenirajte model na skupu za učenje *Iris* i vrednujte njegovu točnost na skupu za ispitivanje."
   ]
  },
  {
   "cell_type": "code",
   "execution_count": 27,
   "metadata": {
    "collapsed": false
   },
   "outputs": [
    {
     "name": "stdout",
     "output_type": "stream",
     "text": [
      "Točnost na skupu za ispitivanje: 0.9777777777777777\n"
     ]
    }
   ],
   "source": [
    "from sklearn.naive_bayes import GaussianNB\n",
    "model = GaussianNB()\n",
    "model.fit(x_train,y_train)\n",
    "y_test_predicted = model.predict(x_test)\n",
    "print(\"Točnost na skupu za ispitivanje: {0}\".format(accuracy_score(y_test,y_test_predicted)))"
   ]
  },
  {
   "cell_type": "markdown",
   "metadata": {},
   "source": [
    "#### (c)\n",
    "\n",
    "Naivan Bayesov klasifikator u potpunosti zanemaruje korelacije između varijabli. Postavlja se pitanje bi li klasifikator na skupu *Iris* dosezao veću točnost kada bi modelirao (linearne) zavisnosti između varijabli.\n",
    "\n",
    "Implementirajte Bayesov klasifikator s punom kovarijacijskom matricom za svaku klasu (dakle: nedijeljenom i nedijagonalnom kovarijacijskom matricom). Implementacija se sastoji od dvije funkcije: `train_GB` i `predict_GB`. Funkcija `train_GB(X,y)` neka trenira model Bayesovog klasifikatora sa Gaussovim gustoćama vjerojatnosti i vraća trenirani model. Za procjenu vektora srednjih vrijednosti $\\mu_j$ i kovarijacijskih matrica $\\Sigma_j$ možete koristiti [ove](http://docs.scipy.org/doc/numpy/reference/routines.statistics.html) funkcije. Funkcija `predict_GB(model,X)` neka daje predikcije modela na svim primjerima iz `X`. Alternativno, model možete implementirati kao klasu, a funkcije `train_GB` i `predict_GB` kao njezine metode.\n"
   ]
  },
  {
   "cell_type": "code",
   "execution_count": 28,
   "metadata": {
    "collapsed": false
   },
   "outputs": [],
   "source": [
    "from scipy import stats\n",
    "\n",
    "class GaussBayesModel:\n",
    "    def __init__(self):\n",
    "        self.mi = np.zeros((3,4))\n",
    "        self.apriori = np.zeros(3)\n",
    "        self.cov_matrix_0 = np.zeros((4,4))\n",
    "        self.cov_matrix_1 = np.zeros((4,4))\n",
    "        self.cov_matrix_2 = np.zeros((4,4))\n",
    "        \n",
    "    def train_GB(self,X,y):\n",
    "        N = X.shape[0]\n",
    "        class0 = 0\n",
    "        class1 = 0\n",
    "        class2 = 0\n",
    "        xclass0 = np.zeros(4)\n",
    "        xclass1 = np.zeros(4)\n",
    "        xclass2 = np.zeros(4)\n",
    "        for i in range(0,N):\n",
    "            if y[i]==0:\n",
    "                class0 = class0 + 1\n",
    "                xclass0 = xclass0 + X[i]\n",
    "            elif y[i]==1:\n",
    "                class1 = class1 + 1\n",
    "                xclass1 = xclass1 + X[i]\n",
    "            else:\n",
    "                class2 = class2 + 1\n",
    "                xclass2 = xclass2 + X[i]\n",
    "        \n",
    "        self.mi[0] = xclass0/class0\n",
    "        self.mi[1] = xclass1/class1\n",
    "        self.mi[2] = xclass2/class2\n",
    "        \n",
    "        self.apriori[0] = class0/N\n",
    "        self.apriori[1] = class1/N\n",
    "        self.apriori[2] = class2/N\n",
    "        \n",
    "        \n",
    "        self.cov_matrix_0 = np.cov(X[y==0],rowvar=0)\n",
    "        self.cov_matrix_1 = np.cov(X[y==1],rowvar=0)\n",
    "        self.cov_matrix_2 = np.cov(X[y==2],rowvar=0)\n",
    "        \n",
    "    def predict(self, X):\n",
    "        N = X.shape[0]\n",
    "        y_predicted = []\n",
    "        for i in range(0,N):\n",
    "            h = []\n",
    "            for j in range(0,3):\n",
    "                if j==0:\n",
    "                    h.append(np.log(stats.multivariate_normal.pdf(X[i],self.mi[0],self.cov_matrix_0)) +  np.log(self.apriori[0]))\n",
    "                elif j==1:\n",
    "                    h.append(np.log(stats.multivariate_normal.pdf(X[i],self.mi[1],self.cov_matrix_1)) +  np.log(self.apriori[1]))\n",
    "                else:\n",
    "                    h.append(np.log(stats.multivariate_normal.pdf(X[i],self.mi[2],self.cov_matrix_2)) +  np.log(self.apriori[2]))\n",
    "            h_np = np.asarray(h)\n",
    "            predicted_class = np.argmax(h_np)\n",
    "            y_predicted.append(predicted_class)\n",
    "        \n",
    "        return np.asarray(y_predicted)"
   ]
  },
  {
   "cell_type": "markdown",
   "metadata": {},
   "source": [
    "#### (d)\n",
    "\n",
    "Izračunajte točnost modela na ispitnome dijelu skupa *Iris* i usporedite je s točnošću naivnog Bayesovog klasifikatora iz podzadatka (b)."
   ]
  },
  {
   "cell_type": "code",
   "execution_count": 29,
   "metadata": {
    "collapsed": false
   },
   "outputs": [
    {
     "name": "stdout",
     "output_type": "stream",
     "text": [
      "1.0\n"
     ]
    }
   ],
   "source": [
    "model = GaussBayesModel()\n",
    "model.train_GB(x_train,y_train)\n",
    "y_test_predicted = model.predict(x_test)\n",
    "print(accuracy_score(y_test,y_test_predicted))"
   ]
  },
  {
   "cell_type": "code",
   "execution_count": null,
   "metadata": {
    "collapsed": true
   },
   "outputs": [],
   "source": [
    ""
   ]
  }
 ],
 "metadata": {
  "anaconda-cloud": {},
  "kernelspec": {
   "display_name": "Python [Root]",
   "language": "python",
   "name": "Python [Root]"
  },
  "language_info": {
   "codemirror_mode": {
    "name": "ipython",
    "version": 3.0
   },
   "file_extension": ".py",
   "mimetype": "text/x-python",
   "name": "python",
   "nbconvert_exporter": "python",
   "pygments_lexer": "ipython3",
   "version": "3.5.2"
  }
 },
 "nbformat": 4,
 "nbformat_minor": 0
}